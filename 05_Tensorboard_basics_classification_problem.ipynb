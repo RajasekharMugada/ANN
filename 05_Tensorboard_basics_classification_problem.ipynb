{
 "cells": [
  {
   "cell_type": "markdown",
   "metadata": {},
   "source": [
    "# Tensorboard basics\n",
    "**Cancer classification data set is used to demonstrate tensorboard usage**\n",
    "\n",
    "STEPS: \n",
    "1. Data preprocessing, feature scaling\n",
    "2. Create model\n",
    "3. Date time utlity - to create string using time stamp information for naming log folders\n",
    "4. TENSORBOARD : Create tensorboard call back\n",
    "5. TENSORBOARD : Train model and link tensofrboard call back**\n",
    "6. TENSORBOARD : Run tensorboard to activate web based visulization tool** \n"
   ]
  },
  {
   "cell_type": "markdown",
   "metadata": {},
   "source": [
    "## Data"
   ]
  },
  {
   "cell_type": "code",
   "execution_count": 4,
   "metadata": {},
   "outputs": [],
   "source": [
    "import pandas as pd"
   ]
  },
  {
   "cell_type": "code",
   "execution_count": 7,
   "metadata": {},
   "outputs": [
    {
     "data": {
      "text/html": [
       "<div>\n",
       "<style scoped>\n",
       "    .dataframe tbody tr th:only-of-type {\n",
       "        vertical-align: middle;\n",
       "    }\n",
       "\n",
       "    .dataframe tbody tr th {\n",
       "        vertical-align: top;\n",
       "    }\n",
       "\n",
       "    .dataframe thead th {\n",
       "        text-align: right;\n",
       "    }\n",
       "</style>\n",
       "<table border=\"1\" class=\"dataframe\">\n",
       "  <thead>\n",
       "    <tr style=\"text-align: right;\">\n",
       "      <th></th>\n",
       "      <th>mean radius</th>\n",
       "      <th>mean texture</th>\n",
       "      <th>mean perimeter</th>\n",
       "      <th>mean area</th>\n",
       "      <th>mean smoothness</th>\n",
       "      <th>mean compactness</th>\n",
       "      <th>mean concavity</th>\n",
       "      <th>mean concave points</th>\n",
       "      <th>mean symmetry</th>\n",
       "      <th>mean fractal dimension</th>\n",
       "      <th>...</th>\n",
       "      <th>worst texture</th>\n",
       "      <th>worst perimeter</th>\n",
       "      <th>worst area</th>\n",
       "      <th>worst smoothness</th>\n",
       "      <th>worst compactness</th>\n",
       "      <th>worst concavity</th>\n",
       "      <th>worst concave points</th>\n",
       "      <th>worst symmetry</th>\n",
       "      <th>worst fractal dimension</th>\n",
       "      <th>benign_0__mal_1</th>\n",
       "    </tr>\n",
       "  </thead>\n",
       "  <tbody>\n",
       "    <tr>\n",
       "      <th>0</th>\n",
       "      <td>17.99</td>\n",
       "      <td>10.38</td>\n",
       "      <td>122.80</td>\n",
       "      <td>1001.0</td>\n",
       "      <td>0.11840</td>\n",
       "      <td>0.27760</td>\n",
       "      <td>0.3001</td>\n",
       "      <td>0.14710</td>\n",
       "      <td>0.2419</td>\n",
       "      <td>0.07871</td>\n",
       "      <td>...</td>\n",
       "      <td>17.33</td>\n",
       "      <td>184.60</td>\n",
       "      <td>2019.0</td>\n",
       "      <td>0.1622</td>\n",
       "      <td>0.6656</td>\n",
       "      <td>0.7119</td>\n",
       "      <td>0.2654</td>\n",
       "      <td>0.4601</td>\n",
       "      <td>0.11890</td>\n",
       "      <td>0</td>\n",
       "    </tr>\n",
       "    <tr>\n",
       "      <th>1</th>\n",
       "      <td>20.57</td>\n",
       "      <td>17.77</td>\n",
       "      <td>132.90</td>\n",
       "      <td>1326.0</td>\n",
       "      <td>0.08474</td>\n",
       "      <td>0.07864</td>\n",
       "      <td>0.0869</td>\n",
       "      <td>0.07017</td>\n",
       "      <td>0.1812</td>\n",
       "      <td>0.05667</td>\n",
       "      <td>...</td>\n",
       "      <td>23.41</td>\n",
       "      <td>158.80</td>\n",
       "      <td>1956.0</td>\n",
       "      <td>0.1238</td>\n",
       "      <td>0.1866</td>\n",
       "      <td>0.2416</td>\n",
       "      <td>0.1860</td>\n",
       "      <td>0.2750</td>\n",
       "      <td>0.08902</td>\n",
       "      <td>0</td>\n",
       "    </tr>\n",
       "    <tr>\n",
       "      <th>2</th>\n",
       "      <td>19.69</td>\n",
       "      <td>21.25</td>\n",
       "      <td>130.00</td>\n",
       "      <td>1203.0</td>\n",
       "      <td>0.10960</td>\n",
       "      <td>0.15990</td>\n",
       "      <td>0.1974</td>\n",
       "      <td>0.12790</td>\n",
       "      <td>0.2069</td>\n",
       "      <td>0.05999</td>\n",
       "      <td>...</td>\n",
       "      <td>25.53</td>\n",
       "      <td>152.50</td>\n",
       "      <td>1709.0</td>\n",
       "      <td>0.1444</td>\n",
       "      <td>0.4245</td>\n",
       "      <td>0.4504</td>\n",
       "      <td>0.2430</td>\n",
       "      <td>0.3613</td>\n",
       "      <td>0.08758</td>\n",
       "      <td>0</td>\n",
       "    </tr>\n",
       "    <tr>\n",
       "      <th>3</th>\n",
       "      <td>11.42</td>\n",
       "      <td>20.38</td>\n",
       "      <td>77.58</td>\n",
       "      <td>386.1</td>\n",
       "      <td>0.14250</td>\n",
       "      <td>0.28390</td>\n",
       "      <td>0.2414</td>\n",
       "      <td>0.10520</td>\n",
       "      <td>0.2597</td>\n",
       "      <td>0.09744</td>\n",
       "      <td>...</td>\n",
       "      <td>26.50</td>\n",
       "      <td>98.87</td>\n",
       "      <td>567.7</td>\n",
       "      <td>0.2098</td>\n",
       "      <td>0.8663</td>\n",
       "      <td>0.6869</td>\n",
       "      <td>0.2575</td>\n",
       "      <td>0.6638</td>\n",
       "      <td>0.17300</td>\n",
       "      <td>0</td>\n",
       "    </tr>\n",
       "  </tbody>\n",
       "</table>\n",
       "<p>4 rows × 31 columns</p>\n",
       "</div>"
      ],
      "text/plain": [
       "   mean radius  mean texture  mean perimeter  mean area  mean smoothness  \\\n",
       "0        17.99         10.38          122.80     1001.0          0.11840   \n",
       "1        20.57         17.77          132.90     1326.0          0.08474   \n",
       "2        19.69         21.25          130.00     1203.0          0.10960   \n",
       "3        11.42         20.38           77.58      386.1          0.14250   \n",
       "\n",
       "   mean compactness  mean concavity  mean concave points  mean symmetry  \\\n",
       "0           0.27760          0.3001              0.14710         0.2419   \n",
       "1           0.07864          0.0869              0.07017         0.1812   \n",
       "2           0.15990          0.1974              0.12790         0.2069   \n",
       "3           0.28390          0.2414              0.10520         0.2597   \n",
       "\n",
       "   mean fractal dimension  ...  worst texture  worst perimeter  worst area  \\\n",
       "0                 0.07871  ...          17.33           184.60      2019.0   \n",
       "1                 0.05667  ...          23.41           158.80      1956.0   \n",
       "2                 0.05999  ...          25.53           152.50      1709.0   \n",
       "3                 0.09744  ...          26.50            98.87       567.7   \n",
       "\n",
       "   worst smoothness  worst compactness  worst concavity  worst concave points  \\\n",
       "0            0.1622             0.6656           0.7119                0.2654   \n",
       "1            0.1238             0.1866           0.2416                0.1860   \n",
       "2            0.1444             0.4245           0.4504                0.2430   \n",
       "3            0.2098             0.8663           0.6869                0.2575   \n",
       "\n",
       "   worst symmetry  worst fractal dimension  benign_0__mal_1  \n",
       "0          0.4601                  0.11890                0  \n",
       "1          0.2750                  0.08902                0  \n",
       "2          0.3613                  0.08758                0  \n",
       "3          0.6638                  0.17300                0  \n",
       "\n",
       "[4 rows x 31 columns]"
      ]
     },
     "execution_count": 7,
     "metadata": {},
     "output_type": "execute_result"
    }
   ],
   "source": [
    "df = pd.read_csv('DATA/03_data_classification_cancer_classification.csv')\n",
    "df.head(4)"
   ]
  },
  {
   "cell_type": "markdown",
   "metadata": {},
   "source": [
    "## Training and testing data split"
   ]
  },
  {
   "cell_type": "code",
   "execution_count": 10,
   "metadata": {},
   "outputs": [],
   "source": [
    "from sklearn.model_selection import train_test_split\n",
    "X = df.drop('benign_0__mal_1', axis = 1).values\n",
    "y = df['benign_0__mal_1'].values"
   ]
  },
  {
   "cell_type": "code",
   "execution_count": 11,
   "metadata": {},
   "outputs": [
    {
     "data": {
      "text/plain": [
       "(569, 30)"
      ]
     },
     "execution_count": 11,
     "metadata": {},
     "output_type": "execute_result"
    }
   ],
   "source": [
    "X.shape"
   ]
  },
  {
   "cell_type": "code",
   "execution_count": 12,
   "metadata": {},
   "outputs": [
    {
     "data": {
      "text/plain": [
       "(569,)"
      ]
     },
     "execution_count": 12,
     "metadata": {},
     "output_type": "execute_result"
    }
   ],
   "source": [
    "y.shape"
   ]
  },
  {
   "cell_type": "code",
   "execution_count": 13,
   "metadata": {},
   "outputs": [],
   "source": [
    "X_train, X_test, y_train, y_test = train_test_split(X, y, test_size = 0.2, random_state = 10)"
   ]
  },
  {
   "cell_type": "markdown",
   "metadata": {},
   "source": [
    "## Scale features"
   ]
  },
  {
   "cell_type": "code",
   "execution_count": 14,
   "metadata": {},
   "outputs": [],
   "source": [
    "from sklearn.preprocessing import MinMaxScaler\n",
    "scaler = MinMaxScaler()\n",
    "X_train = scaler.fit_transform(X_train)\n",
    "X_test = scaler.transform(X_test)"
   ]
  },
  {
   "cell_type": "markdown",
   "metadata": {},
   "source": [
    "## Model creation"
   ]
  },
  {
   "cell_type": "code",
   "execution_count": 21,
   "metadata": {},
   "outputs": [],
   "source": [
    "from tensorflow.keras.models import Sequential\n",
    "from tensorflow.keras.layers import Dense, Dropout\n",
    "\n",
    "model = Sequential()\n",
    "model.add(Dense(30, activation = 'relu'))\n",
    "model.add(Dropout(0.5))\n",
    "model.add(Dense(15, activation = 'relu'))\n",
    "model.add(Dropout(0.5))\n",
    "model.add(Dense(1))\n",
    "\n",
    "model.compile(optimizer = 'adam', loss = 'binary_crossentropy')"
   ]
  },
  {
   "cell_type": "markdown",
   "metadata": {},
   "source": [
    "## Date time utility for naming folders as per timestamp\n",
    "**Usefull for tensorboard logs folder**"
   ]
  },
  {
   "cell_type": "code",
   "execution_count": 15,
   "metadata": {},
   "outputs": [
    {
     "data": {
      "text/plain": [
       "'2020-04-01--1956'"
      ]
     },
     "execution_count": 15,
     "metadata": {},
     "output_type": "execute_result"
    }
   ],
   "source": [
    "from datetime import datetime\n",
    "folder_name = datetime.now().strftime('%Y-%m-%d--%H%M')\n",
    "folder_name"
   ]
  },
  {
   "cell_type": "markdown",
   "metadata": {},
   "source": [
    "## Tensorboard - Create call back for linking it in model training"
   ]
  },
  {
   "cell_type": "code",
   "execution_count": 31,
   "metadata": {},
   "outputs": [],
   "source": [
    "from tensorflow.keras.callbacks import TensorBoard\n",
    "\n",
    "log_directory = 'LOGS\\\\fit' + '\\\\' + folder_name\n",
    "callback_tensorboard = TensorBoard(log_dir = log_directory,\n",
    "                                   write_graph = True,\n",
    "                                   write_images = True,\n",
    "                                   update_freq = 'epoch',\n",
    "                                   profile_batch = 2\n",
    "                                  )"
   ]
  },
  {
   "cell_type": "code",
   "execution_count": 32,
   "metadata": {},
   "outputs": [
    {
     "data": {
      "text/plain": [
       "'LOGS\\\\fit\\\\2020-04-01--1956'"
      ]
     },
     "execution_count": 32,
     "metadata": {},
     "output_type": "execute_result"
    }
   ],
   "source": [
    "log_directory"
   ]
  },
  {
   "cell_type": "markdown",
   "metadata": {},
   "source": [
    "## Train model - along with tensorboard callback"
   ]
  },
  {
   "cell_type": "code",
   "execution_count": 33,
   "metadata": {},
   "outputs": [
    {
     "name": "stdout",
     "output_type": "stream",
     "text": [
      "Train on 455 samples, validate on 114 samples\n",
      "Epoch 1/130\n",
      " 32/455 [=>............................] - ETA: 0s - loss: 1.2914WARNING:tensorflow:Method (on_train_batch_end) is slow compared to the batch update (0.258467). Check your callbacks.\n",
      "455/455 [==============================] - 1s 2ms/sample - loss: 0.4741 - val_loss: 0.2689\n",
      "Epoch 2/130\n",
      "455/455 [==============================] - 0s 593us/sample - loss: 0.3902 - val_loss: 0.2389\n",
      "Epoch 3/130\n",
      "455/455 [==============================] - 0s 919us/sample - loss: 0.3218 - val_loss: 0.2193\n",
      "Epoch 4/130\n",
      "455/455 [==============================] - 0s 640us/sample - loss: 0.4382 - val_loss: 0.2214\n",
      "Epoch 5/130\n",
      "455/455 [==============================] - 0s 929us/sample - loss: 0.3373 - val_loss: 0.2213\n",
      "Epoch 6/130\n",
      "455/455 [==============================] - 1s 1ms/sample - loss: 0.3411 - val_loss: 0.2191\n",
      "Epoch 7/130\n",
      "455/455 [==============================] - 0s 913us/sample - loss: 0.3730 - val_loss: 0.2151\n",
      "Epoch 8/130\n",
      "455/455 [==============================] - 0s 822us/sample - loss: 0.2897 - val_loss: 0.2074\n",
      "Epoch 9/130\n",
      "455/455 [==============================] - 0s 941us/sample - loss: 0.3596 - val_loss: 0.2031\n",
      "Epoch 10/130\n",
      "455/455 [==============================] - 0s 784us/sample - loss: 0.4192 - val_loss: 0.2006\n",
      "Epoch 11/130\n",
      "455/455 [==============================] - 0s 880us/sample - loss: 0.3395 - val_loss: 0.1990\n",
      "Epoch 12/130\n",
      "455/455 [==============================] - 0s 774us/sample - loss: 0.3831 - val_loss: 0.2150\n",
      "Epoch 13/130\n",
      "455/455 [==============================] - 0s 757us/sample - loss: 0.3439 - val_loss: 0.3180\n",
      "Epoch 14/130\n",
      "455/455 [==============================] - 0s 607us/sample - loss: 0.4405 - val_loss: 0.1811\n",
      "Epoch 15/130\n",
      "455/455 [==============================] - 0s 726us/sample - loss: 0.3407 - val_loss: 0.1779\n",
      "Epoch 16/130\n",
      "455/455 [==============================] - 0s 688us/sample - loss: 0.3742 - val_loss: 0.1816\n",
      "Epoch 17/130\n",
      "455/455 [==============================] - 0s 812us/sample - loss: 0.3075 - val_loss: 0.1775\n",
      "Epoch 18/130\n",
      "455/455 [==============================] - 0s 659us/sample - loss: 0.3393 - val_loss: 0.1773\n",
      "Epoch 19/130\n",
      "455/455 [==============================] - 0s 475us/sample - loss: 0.3557 - val_loss: 0.1773\n",
      "Epoch 20/130\n",
      "455/455 [==============================] - 0s 717us/sample - loss: 0.3406 - val_loss: 0.1744\n",
      "Epoch 21/130\n",
      "455/455 [==============================] - 0s 879us/sample - loss: 0.2978 - val_loss: 0.1724\n",
      "Epoch 22/130\n",
      "455/455 [==============================] - 0s 728us/sample - loss: 0.2817 - val_loss: 0.1721\n",
      "Epoch 23/130\n",
      "455/455 [==============================] - 0s 728us/sample - loss: 0.3751 - val_loss: 0.1747\n",
      "Epoch 24/130\n",
      "455/455 [==============================] - 0s 741us/sample - loss: 0.3399 - val_loss: 0.1678\n",
      "Epoch 25/130\n",
      "455/455 [==============================] - 0s 750us/sample - loss: 0.2834 - val_loss: 0.1779\n",
      "Epoch 26/130\n",
      "455/455 [==============================] - 0s 860us/sample - loss: 0.3815 - val_loss: 0.2838\n",
      "Epoch 27/130\n",
      "455/455 [==============================] - 0s 693us/sample - loss: 0.3168 - val_loss: 0.1564\n",
      "Epoch 28/130\n",
      "455/455 [==============================] - 0s 912us/sample - loss: 0.2864 - val_loss: 0.1545\n",
      "Epoch 29/130\n",
      "455/455 [==============================] - 0s 759us/sample - loss: 0.2622 - val_loss: 0.1645\n",
      "Epoch 30/130\n",
      "455/455 [==============================] - 0s 634us/sample - loss: 0.3202 - val_loss: 0.1615\n",
      "Epoch 31/130\n",
      "455/455 [==============================] - 0s 716us/sample - loss: 0.3670 - val_loss: 0.1500\n",
      "Epoch 32/130\n",
      "455/455 [==============================] - 0s 770us/sample - loss: 0.3462 - val_loss: 0.1506\n",
      "Epoch 33/130\n",
      "455/455 [==============================] - 0s 769us/sample - loss: 0.2670 - val_loss: 0.1605\n",
      "Epoch 34/130\n",
      "455/455 [==============================] - 0s 776us/sample - loss: 0.3514 - val_loss: 0.1687\n",
      "Epoch 35/130\n",
      "455/455 [==============================] - 0s 745us/sample - loss: 0.2668 - val_loss: 0.1717\n",
      "Epoch 36/130\n",
      "455/455 [==============================] - 0s 1ms/sample - loss: 0.3165 - val_loss: 0.1716\n",
      "Epoch 37/130\n",
      "455/455 [==============================] - 0s 765us/sample - loss: 0.3605 - val_loss: 0.1688\n",
      "Epoch 38/130\n",
      "455/455 [==============================] - 0s 844us/sample - loss: 0.2625 - val_loss: 0.1693\n",
      "Epoch 39/130\n",
      "455/455 [==============================] - 0s 706us/sample - loss: 0.2678 - val_loss: 0.1633\n",
      "Epoch 40/130\n",
      "455/455 [==============================] - 0s 695us/sample - loss: 0.2743 - val_loss: 0.1661\n",
      "Epoch 41/130\n",
      "455/455 [==============================] - 0s 712us/sample - loss: 0.2717 - val_loss: 0.1674\n",
      "Epoch 42/130\n",
      "455/455 [==============================] - 0s 767us/sample - loss: 0.3053 - val_loss: 0.1666\n",
      "Epoch 43/130\n",
      "455/455 [==============================] - 0s 422us/sample - loss: 0.2583 - val_loss: 0.1585\n",
      "Epoch 44/130\n",
      "455/455 [==============================] - 0s 707us/sample - loss: 0.2902 - val_loss: 0.1560\n",
      "Epoch 45/130\n",
      "455/455 [==============================] - 0s 875us/sample - loss: 0.2401 - val_loss: 0.1572\n",
      "Epoch 46/130\n",
      "455/455 [==============================] - 0s 898us/sample - loss: 0.2783 - val_loss: 0.1562\n",
      "Epoch 47/130\n",
      "455/455 [==============================] - 0s 723us/sample - loss: 0.2677 - val_loss: 0.1620\n",
      "Epoch 48/130\n",
      "455/455 [==============================] - 0s 395us/sample - loss: 0.2642 - val_loss: 0.1725\n",
      "Epoch 49/130\n",
      "455/455 [==============================] - 0s 735us/sample - loss: 0.2886 - val_loss: 0.1493\n",
      "Epoch 50/130\n",
      "455/455 [==============================] - 0s 828us/sample - loss: 0.2813 - val_loss: 0.1509\n",
      "Epoch 51/130\n",
      "455/455 [==============================] - 0s 811us/sample - loss: 0.2567 - val_loss: 0.1519\n",
      "Epoch 52/130\n",
      "455/455 [==============================] - 0s 921us/sample - loss: 0.3384 - val_loss: 0.1426\n",
      "Epoch 53/130\n",
      "455/455 [==============================] - 0s 1ms/sample - loss: 0.3352 - val_loss: 0.1392\n",
      "Epoch 54/130\n",
      "455/455 [==============================] - 0s 989us/sample - loss: 0.2086 - val_loss: 0.1430\n",
      "Epoch 55/130\n",
      "455/455 [==============================] - 0s 773us/sample - loss: 0.3103 - val_loss: 0.1459\n",
      "Epoch 56/130\n",
      "455/455 [==============================] - 0s 896us/sample - loss: 0.2308 - val_loss: 0.1301\n",
      "Epoch 57/130\n",
      "455/455 [==============================] - 0s 690us/sample - loss: 0.3002 - val_loss: 0.1273\n",
      "Epoch 58/130\n",
      "455/455 [==============================] - 0s 853us/sample - loss: 0.3131 - val_loss: 0.1263\n",
      "Epoch 59/130\n",
      "455/455 [==============================] - 0s 686us/sample - loss: 0.2477 - val_loss: 0.1235\n",
      "Epoch 60/130\n",
      "455/455 [==============================] - 0s 983us/sample - loss: 0.2328 - val_loss: 0.1206\n",
      "Epoch 61/130\n",
      "455/455 [==============================] - 0s 752us/sample - loss: 0.2648 - val_loss: 0.1206\n",
      "Epoch 62/130\n",
      "455/455 [==============================] - 0s 804us/sample - loss: 0.2997 - val_loss: 0.1298\n",
      "Epoch 63/130\n",
      "455/455 [==============================] - 0s 759us/sample - loss: 0.2632 - val_loss: 0.1693\n",
      "Epoch 64/130\n",
      "455/455 [==============================] - 0s 682us/sample - loss: 0.2415 - val_loss: 0.1340\n",
      "Epoch 65/130\n",
      "455/455 [==============================] - 0s 804us/sample - loss: 0.3442 - val_loss: 0.2456\n",
      "Epoch 66/130\n",
      "455/455 [==============================] - 0s 389us/sample - loss: 0.3344 - val_loss: 0.1351\n",
      "Epoch 67/130\n",
      "455/455 [==============================] - 0s 668us/sample - loss: 0.2737 - val_loss: 0.1164\n",
      "Epoch 68/130\n",
      "455/455 [==============================] - 0s 664us/sample - loss: 0.2443 - val_loss: 0.1253\n",
      "Epoch 69/130\n",
      "455/455 [==============================] - 0s 830us/sample - loss: 0.2298 - val_loss: 0.1158\n",
      "Epoch 70/130\n",
      "455/455 [==============================] - 0s 709us/sample - loss: 0.2703 - val_loss: 0.1241\n",
      "Epoch 71/130\n",
      "455/455 [==============================] - 0s 600us/sample - loss: 0.2703 - val_loss: 0.1211\n",
      "Epoch 72/130\n",
      "455/455 [==============================] - 0s 721us/sample - loss: 0.2207 - val_loss: 0.1266\n",
      "Epoch 73/130\n",
      "455/455 [==============================] - 0s 841us/sample - loss: 0.3015 - val_loss: 0.2343\n",
      "Epoch 74/130\n",
      "455/455 [==============================] - 0s 794us/sample - loss: 0.3086 - val_loss: 0.2387\n",
      "Epoch 75/130\n",
      "455/455 [==============================] - 0s 747us/sample - loss: 0.3003 - val_loss: 0.2387\n",
      "Epoch 76/130\n"
     ]
    },
    {
     "name": "stdout",
     "output_type": "stream",
     "text": [
      "455/455 [==============================] - 0s 938us/sample - loss: 0.3725 - val_loss: 0.1176\n",
      "Epoch 77/130\n",
      "455/455 [==============================] - 0s 896us/sample - loss: 0.2235 - val_loss: 0.1290\n",
      "Epoch 78/130\n",
      "455/455 [==============================] - 0s 615us/sample - loss: 0.2205 - val_loss: 0.1260\n",
      "Epoch 79/130\n",
      "455/455 [==============================] - 0s 765us/sample - loss: 0.2588 - val_loss: 0.2767\n",
      "Epoch 80/130\n",
      "455/455 [==============================] - 0s 782us/sample - loss: 0.3586 - val_loss: 0.1303\n",
      "Epoch 81/130\n",
      "455/455 [==============================] - 1s 1ms/sample - loss: 0.2048 - val_loss: 0.1106\n",
      "Epoch 82/130\n",
      "455/455 [==============================] - 0s 738us/sample - loss: 0.2270 - val_loss: 0.1052\n",
      "Epoch 83/130\n",
      "455/455 [==============================] - 0s 942us/sample - loss: 0.2279 - val_loss: 0.1140\n",
      "Epoch 84/130\n",
      "455/455 [==============================] - 0s 765us/sample - loss: 0.2190 - val_loss: 0.2383\n",
      "Epoch 85/130\n",
      "455/455 [==============================] - 0s 758us/sample - loss: 0.2212 - val_loss: 0.1302\n",
      "Epoch 86/130\n",
      "455/455 [==============================] - 0s 888us/sample - loss: 0.2573 - val_loss: 0.1022\n",
      "Epoch 87/130\n",
      "455/455 [==============================] - 0s 769us/sample - loss: 0.2467 - val_loss: 0.1364\n",
      "Epoch 88/130\n",
      "455/455 [==============================] - 0s 927us/sample - loss: 0.2685 - val_loss: 0.1492\n",
      "Epoch 89/130\n",
      "455/455 [==============================] - 0s 792us/sample - loss: 0.3240 - val_loss: 0.1710\n",
      "Epoch 90/130\n",
      "455/455 [==============================] - 0s 804us/sample - loss: 0.5435 - val_loss: 0.2379\n",
      "Epoch 91/130\n",
      "455/455 [==============================] - 0s 809us/sample - loss: 0.5553 - val_loss: 0.1766\n",
      "Epoch 92/130\n",
      "455/455 [==============================] - 0s 932us/sample - loss: 0.4070 - val_loss: 0.1446\n",
      "Epoch 93/130\n",
      "455/455 [==============================] - 0s 829us/sample - loss: 0.2856 - val_loss: 0.1250\n",
      "Epoch 94/130\n",
      "455/455 [==============================] - 0s 854us/sample - loss: 0.2457 - val_loss: 0.1148\n",
      "Epoch 95/130\n",
      "455/455 [==============================] - 0s 778us/sample - loss: 0.2164 - val_loss: 0.1111\n",
      "Epoch 96/130\n",
      "455/455 [==============================] - 0s 820us/sample - loss: 0.2229 - val_loss: 0.1059\n",
      "Epoch 97/130\n",
      "455/455 [==============================] - 0s 519us/sample - loss: 0.3312 - val_loss: 0.1437\n",
      "Epoch 98/130\n",
      "455/455 [==============================] - 0s 488us/sample - loss: 0.3910 - val_loss: 0.2073\n",
      "Epoch 99/130\n",
      "455/455 [==============================] - 0s 827us/sample - loss: 0.3379 - val_loss: 0.1833\n",
      "Epoch 100/130\n",
      "455/455 [==============================] - 0s 583us/sample - loss: 0.3139 - val_loss: 0.1587\n",
      "Epoch 101/130\n",
      "455/455 [==============================] - 0s 827us/sample - loss: 0.2878 - val_loss: 0.1427\n",
      "Epoch 102/130\n",
      "455/455 [==============================] - 0s 706us/sample - loss: 0.2994 - val_loss: 0.1294\n",
      "Epoch 103/130\n",
      "455/455 [==============================] - 0s 744us/sample - loss: 0.2688 - val_loss: 0.1202\n",
      "Epoch 104/130\n",
      "455/455 [==============================] - 0s 668us/sample - loss: 0.2946 - val_loss: 0.1113\n",
      "Epoch 105/130\n",
      "455/455 [==============================] - 0s 431us/sample - loss: 0.2640 - val_loss: 0.1075\n",
      "Epoch 106/130\n",
      "455/455 [==============================] - 0s 754us/sample - loss: 0.2417 - val_loss: 0.1051\n",
      "Epoch 107/130\n",
      "455/455 [==============================] - 0s 717us/sample - loss: 0.2729 - val_loss: 0.1046\n",
      "Epoch 108/130\n",
      "455/455 [==============================] - 0s 844us/sample - loss: 0.2511 - val_loss: 0.1044\n",
      "Epoch 109/130\n",
      "455/455 [==============================] - 0s 777us/sample - loss: 0.1740 - val_loss: 0.1014\n",
      "Epoch 110/130\n",
      "455/455 [==============================] - 0s 747us/sample - loss: 0.2415 - val_loss: 0.0993\n",
      "Epoch 111/130\n",
      "455/455 [==============================] - 0s 840us/sample - loss: 0.1993 - val_loss: 0.0972\n",
      "Epoch 112/130\n",
      "455/455 [==============================] - 0s 858us/sample - loss: 0.2394 - val_loss: 0.1147\n",
      "Epoch 113/130\n",
      "455/455 [==============================] - 0s 926us/sample - loss: 0.2183 - val_loss: 0.1248\n",
      "Epoch 114/130\n",
      "455/455 [==============================] - 0s 812us/sample - loss: 0.2814 - val_loss: 0.1136\n",
      "Epoch 115/130\n",
      "455/455 [==============================] - 0s 781us/sample - loss: 0.2129 - val_loss: 0.1027\n",
      "Epoch 116/130\n",
      "455/455 [==============================] - 0s 667us/sample - loss: 0.2847 - val_loss: 0.0980\n",
      "Epoch 117/130\n",
      "455/455 [==============================] - 0s 699us/sample - loss: 0.3081 - val_loss: 0.0959\n",
      "Epoch 118/130\n",
      "455/455 [==============================] - 0s 754us/sample - loss: 0.2523 - val_loss: 0.0927\n",
      "Epoch 119/130\n",
      "455/455 [==============================] - 0s 843us/sample - loss: 0.2616 - val_loss: 0.0924\n",
      "Epoch 120/130\n",
      "455/455 [==============================] - 0s 751us/sample - loss: 0.2111 - val_loss: 0.0913\n",
      "Epoch 121/130\n",
      "455/455 [==============================] - 0s 775us/sample - loss: 0.2794 - val_loss: 0.0906\n",
      "Epoch 122/130\n",
      "455/455 [==============================] - 0s 733us/sample - loss: 0.2074 - val_loss: 0.0986\n",
      "Epoch 123/130\n",
      "455/455 [==============================] - 0s 664us/sample - loss: 0.1861 - val_loss: 0.0942\n",
      "Epoch 124/130\n",
      "455/455 [==============================] - 0s 751us/sample - loss: 0.2002 - val_loss: 0.0902\n",
      "Epoch 125/130\n",
      "455/455 [==============================] - 0s 721us/sample - loss: 0.2295 - val_loss: 0.0879\n",
      "Epoch 126/130\n",
      "455/455 [==============================] - 0s 936us/sample - loss: 0.2695 - val_loss: 0.0880\n",
      "Epoch 127/130\n",
      "455/455 [==============================] - 0s 730us/sample - loss: 0.1812 - val_loss: 0.0873\n",
      "Epoch 128/130\n",
      "455/455 [==============================] - 0s 981us/sample - loss: 0.2045 - val_loss: 0.0909\n",
      "Epoch 129/130\n",
      "455/455 [==============================] - 0s 541us/sample - loss: 0.1787 - val_loss: 0.0908\n",
      "Epoch 130/130\n",
      "455/455 [==============================] - 0s 608us/sample - loss: 0.2532 - val_loss: 0.0916\n"
     ]
    },
    {
     "data": {
      "text/plain": [
       "<tensorflow.python.keras.callbacks.History at 0x1a00af10b88>"
      ]
     },
     "execution_count": 33,
     "metadata": {},
     "output_type": "execute_result"
    }
   ],
   "source": [
    "model.fit(x = X_train, y = y_train, validation_data = [X_test, y_test], \n",
    "          verbose = 1, epochs = 130, \n",
    "          callbacks = [callback_tensorboard])"
   ]
  },
  {
   "cell_type": "code",
   "execution_count": 34,
   "metadata": {},
   "outputs": [
    {
     "name": "stdout",
     "output_type": "stream",
     "text": [
      "              precision    recall  f1-score   support\n",
      "\n",
      "           0       0.93      0.95      0.94        39\n",
      "           1       0.97      0.96      0.97        75\n",
      "\n",
      "    accuracy                           0.96       114\n",
      "   macro avg       0.95      0.95      0.95       114\n",
      "weighted avg       0.96      0.96      0.96       114\n",
      "\n"
     ]
    }
   ],
   "source": [
    "#Model evaluation\n",
    "y_pred = model.predict_classes(X_test)\n",
    "\n",
    "from sklearn.metrics import  classification_report, confusion_matrix\n",
    "\n",
    "print(classification_report(y_test, y_pred))"
   ]
  },
  {
   "cell_type": "code",
   "execution_count": 35,
   "metadata": {},
   "outputs": [
    {
     "name": "stdout",
     "output_type": "stream",
     "text": [
      "[[37  2]\n",
      " [ 3 72]]\n"
     ]
    }
   ],
   "source": [
    "print(confusion_matrix(y_test, y_pred))"
   ]
  },
  {
   "cell_type": "markdown",
   "metadata": {},
   "source": [
    "## Tensorboard - Run tensorboard \n",
    "\n",
    "1. Navigate to pwd (where the python project file is present) using command line or terminal\n",
    "2. Get the log_directory path that was used in model training for saving model parameters \n",
    "3. run the command: tensorboard --logdir log_directory\n",
    "4. Open http://localhost:6006/ link in web browser for tensorboard visualizations"
   ]
  },
  {
   "cell_type": "code",
   "execution_count": 39,
   "metadata": {},
   "outputs": [],
   "source": [
    "#print(log_directory) #for log file directory path\n",
    "#pwd                  #for python project file path\n",
    "#cd pwd               #Use command line or terminal to navigate to pwd\n",
    "#tensorboard --logdir log_directory  #run ternsorboard\n",
    "#http://localhost:6006/ #Open the link in web browser to interact with tensorboard"
   ]
  },
  {
   "cell_type": "markdown",
   "metadata": {},
   "source": [
    "## Good bye !!"
   ]
  },
  {
   "cell_type": "code",
   "execution_count": null,
   "metadata": {},
   "outputs": [],
   "source": []
  }
 ],
 "metadata": {
  "kernelspec": {
   "display_name": "Python 3",
   "language": "python",
   "name": "python3"
  },
  "language_info": {
   "codemirror_mode": {
    "name": "ipython",
    "version": 3
   },
   "file_extension": ".py",
   "mimetype": "text/x-python",
   "name": "python",
   "nbconvert_exporter": "python",
   "pygments_lexer": "ipython3",
   "version": "3.7.6"
  }
 },
 "nbformat": 4,
 "nbformat_minor": 4
}
