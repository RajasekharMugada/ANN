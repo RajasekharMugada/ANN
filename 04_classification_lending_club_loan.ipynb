{
 "cells": [
  {
   "cell_type": "code",
   "execution_count": 1,
   "metadata": {},
   "outputs": [],
   "source": [
    "import numpy as np\n",
    "import pandas as pd\n",
    "import matplotlib.pyplot as plt\n",
    "import seaborn as sns"
   ]
  },
  {
   "cell_type": "markdown",
   "metadata": {},
   "source": [
    "## Predict a customer a  probable defaulter or not"
   ]
  },
  {
   "cell_type": "markdown",
   "metadata": {},
   "source": [
    "## Data description\n",
    "\n",
    "We will be using a subset of the LendingClub DataSet obtained from Kaggle: https://www.kaggle.com/wordsforthewise/lending-club\n",
    "\n",
    "There are many LendingClub data sets on Kaggle. Here is the information on this particular data set:\n",
    "\n",
    "LoanStatNew\tDescription\n",
    "\n",
    "- 0\tloan_amnt\tThe listed amount of the loan applied for by the borrower. If at some point in time, the credit department reduces the loan amount, then it will be reflected in this value.\n",
    "- 1\tterm\tThe number of payments on the loan. Values are in months and can be either 36 or 60.\n",
    "- 2\tint_rate\tInterest Rate on the loan\n",
    "- 3\tinstallment\tThe monthly payment owed by the borrower if the loan originates.\n",
    "- 4\tgrade\tLC assigned loan grade\n",
    "- 5\tsub_grade\tLC assigned loan subgrade\n",
    "- 6\temp_title\tThe job title supplied by the Borrower when applying for the loan.*\n",
    "- 7\temp_length\tEmployment length in years. Possible values are between 0 and 10 where 0 means less than one year and 10 means ten or more years.\n",
    "- 8\thome_ownership\tThe home ownership status provided by the borrower during registration or obtained from the credit report. Our values are: RENT, OWN, MORTGAGE, OTHER\n",
    "- 9\tannual_inc\tThe self-reported annual income provided by the borrower during registration.\n",
    "- 10\tverification_status\tIndicates if income was verified by LC, not verified, or if the income source was verified\n",
    "- 11\tissue_d\tThe month which the loan was funded\n",
    "- 12\tloan_status\tCurrent status of the loan\n",
    "- 13\tpurpose\tA category provided by the borrower for the loan request.\n",
    "- 14\ttitle\tThe loan title provided by the borrower\n",
    "- 15\tzip_code\tThe first 3 numbers of the zip code provided by the borrower in the loan application.\n",
    "- 16\taddr_state\tThe state provided by the borrower in the loan application\n",
    "- 17\tdti\tA ratio calculated using the borrower’s total monthly debt payments on the total debt obligations, excluding mortgage and the requested LC loan, divided by the borrower’s self-reported monthly income.\n",
    "- 18\tearliest_cr_line\tThe month the borrower's earliest reported credit line was opened\n",
    "- 19\topen_acc\tThe number of open credit lines in the borrower's credit file.\n",
    "- 20\tpub_rec\tNumber of derogatory public records\n",
    "- 21\trevol_bal\tTotal credit revolving balance\n",
    "- 22\trevol_util\tRevolving line utilization rate, or the amount of credit the borrower is using relative to all available revolving credit.\n",
    "- 23\ttotal_acc\tThe total number of credit lines currently in the borrower's credit file\n",
    "- 24\tinitial_list_status\tThe initial listing status of the loan. Possible values are – W, F\n",
    "- 25\tapplication_type\tIndicates whether the loan is an individual application or a joint application with two co-borrowers\n",
    "- 26\tmort_acc\tNumber of mortgage accounts.\n",
    "- 27\tpub_rec_bankruptcies\tNumber of public record bankruptcies"
   ]
  },
  {
   "cell_type": "markdown",
   "metadata": {},
   "source": [
    "## Section 1: Exploratory data analysis\n",
    "**OVERALL GOAL: Get an understanding for which variables are important, view summary statistics, and visualize the data**"
   ]
  },
  {
   "cell_type": "code",
   "execution_count": 2,
   "metadata": {},
   "outputs": [
    {
     "data": {
      "text/plain": [
       "Index(['loan_amnt', 'term', 'int_rate', 'installment', 'grade', 'sub_grade',\n",
       "       'emp_title', 'emp_length', 'home_ownership', 'annual_inc',\n",
       "       'verification_status', 'issue_d', 'loan_status', 'purpose', 'title',\n",
       "       'dti', 'earliest_cr_line', 'open_acc', 'pub_rec', 'revol_bal',\n",
       "       'revol_util', 'total_acc', 'initial_list_status', 'application_type',\n",
       "       'mort_acc', 'pub_rec_bankruptcies', 'address'],\n",
       "      dtype='object')"
      ]
     },
     "execution_count": 2,
     "metadata": {},
     "output_type": "execute_result"
    }
   ],
   "source": [
    "df = pd.read_csv('DATA/04_data_lending_club_loan.csv')\n",
    "df.columns"
   ]
  },
  {
   "cell_type": "code",
   "execution_count": 3,
   "metadata": {},
   "outputs": [
    {
     "data": {
      "text/plain": [
       "(396030, 27)"
      ]
     },
     "execution_count": 3,
     "metadata": {},
     "output_type": "execute_result"
    }
   ],
   "source": [
    "df.shape"
   ]
  },
  {
   "cell_type": "code",
   "execution_count": 4,
   "metadata": {},
   "outputs": [
    {
     "data": {
      "text/html": [
       "<div>\n",
       "<style scoped>\n",
       "    .dataframe tbody tr th:only-of-type {\n",
       "        vertical-align: middle;\n",
       "    }\n",
       "\n",
       "    .dataframe tbody tr th {\n",
       "        vertical-align: top;\n",
       "    }\n",
       "\n",
       "    .dataframe thead th {\n",
       "        text-align: right;\n",
       "    }\n",
       "</style>\n",
       "<table border=\"1\" class=\"dataframe\">\n",
       "  <thead>\n",
       "    <tr style=\"text-align: right;\">\n",
       "      <th></th>\n",
       "      <th>loan_amnt</th>\n",
       "      <th>term</th>\n",
       "      <th>int_rate</th>\n",
       "      <th>installment</th>\n",
       "      <th>grade</th>\n",
       "      <th>sub_grade</th>\n",
       "      <th>emp_title</th>\n",
       "      <th>emp_length</th>\n",
       "      <th>home_ownership</th>\n",
       "      <th>annual_inc</th>\n",
       "      <th>...</th>\n",
       "      <th>open_acc</th>\n",
       "      <th>pub_rec</th>\n",
       "      <th>revol_bal</th>\n",
       "      <th>revol_util</th>\n",
       "      <th>total_acc</th>\n",
       "      <th>initial_list_status</th>\n",
       "      <th>application_type</th>\n",
       "      <th>mort_acc</th>\n",
       "      <th>pub_rec_bankruptcies</th>\n",
       "      <th>address</th>\n",
       "    </tr>\n",
       "  </thead>\n",
       "  <tbody>\n",
       "    <tr>\n",
       "      <th>0</th>\n",
       "      <td>10000.0</td>\n",
       "      <td>36 months</td>\n",
       "      <td>11.44</td>\n",
       "      <td>329.48</td>\n",
       "      <td>B</td>\n",
       "      <td>B4</td>\n",
       "      <td>Marketing</td>\n",
       "      <td>10+ years</td>\n",
       "      <td>RENT</td>\n",
       "      <td>117000.0</td>\n",
       "      <td>...</td>\n",
       "      <td>16.0</td>\n",
       "      <td>0.0</td>\n",
       "      <td>36369.0</td>\n",
       "      <td>41.8</td>\n",
       "      <td>25.0</td>\n",
       "      <td>w</td>\n",
       "      <td>INDIVIDUAL</td>\n",
       "      <td>0.0</td>\n",
       "      <td>0.0</td>\n",
       "      <td>0174 Michelle Gateway\\r\\nMendozaberg, OK 22690</td>\n",
       "    </tr>\n",
       "    <tr>\n",
       "      <th>1</th>\n",
       "      <td>8000.0</td>\n",
       "      <td>36 months</td>\n",
       "      <td>11.99</td>\n",
       "      <td>265.68</td>\n",
       "      <td>B</td>\n",
       "      <td>B5</td>\n",
       "      <td>Credit analyst</td>\n",
       "      <td>4 years</td>\n",
       "      <td>MORTGAGE</td>\n",
       "      <td>65000.0</td>\n",
       "      <td>...</td>\n",
       "      <td>17.0</td>\n",
       "      <td>0.0</td>\n",
       "      <td>20131.0</td>\n",
       "      <td>53.3</td>\n",
       "      <td>27.0</td>\n",
       "      <td>f</td>\n",
       "      <td>INDIVIDUAL</td>\n",
       "      <td>3.0</td>\n",
       "      <td>0.0</td>\n",
       "      <td>1076 Carney Fort Apt. 347\\r\\nLoganmouth, SD 05113</td>\n",
       "    </tr>\n",
       "  </tbody>\n",
       "</table>\n",
       "<p>2 rows × 27 columns</p>\n",
       "</div>"
      ],
      "text/plain": [
       "   loan_amnt        term  int_rate  installment grade sub_grade  \\\n",
       "0    10000.0   36 months     11.44       329.48     B        B4   \n",
       "1     8000.0   36 months     11.99       265.68     B        B5   \n",
       "\n",
       "         emp_title emp_length home_ownership  annual_inc  ... open_acc  \\\n",
       "0        Marketing  10+ years           RENT    117000.0  ...     16.0   \n",
       "1  Credit analyst     4 years       MORTGAGE     65000.0  ...     17.0   \n",
       "\n",
       "  pub_rec revol_bal revol_util total_acc  initial_list_status  \\\n",
       "0     0.0   36369.0       41.8      25.0                    w   \n",
       "1     0.0   20131.0       53.3      27.0                    f   \n",
       "\n",
       "  application_type  mort_acc  pub_rec_bankruptcies  \\\n",
       "0       INDIVIDUAL       0.0                   0.0   \n",
       "1       INDIVIDUAL       3.0                   0.0   \n",
       "\n",
       "                                             address  \n",
       "0     0174 Michelle Gateway\\r\\nMendozaberg, OK 22690  \n",
       "1  1076 Carney Fort Apt. 347\\r\\nLoganmouth, SD 05113  \n",
       "\n",
       "[2 rows x 27 columns]"
      ]
     },
     "execution_count": 4,
     "metadata": {},
     "output_type": "execute_result"
    }
   ],
   "source": [
    "df.head(2)"
   ]
  },
  {
   "cell_type": "code",
   "execution_count": 5,
   "metadata": {},
   "outputs": [
    {
     "data": {
      "text/html": [
       "<div>\n",
       "<style scoped>\n",
       "    .dataframe tbody tr th:only-of-type {\n",
       "        vertical-align: middle;\n",
       "    }\n",
       "\n",
       "    .dataframe tbody tr th {\n",
       "        vertical-align: top;\n",
       "    }\n",
       "\n",
       "    .dataframe thead th {\n",
       "        text-align: right;\n",
       "    }\n",
       "</style>\n",
       "<table border=\"1\" class=\"dataframe\">\n",
       "  <thead>\n",
       "    <tr style=\"text-align: right;\">\n",
       "      <th></th>\n",
       "      <th>count</th>\n",
       "      <th>mean</th>\n",
       "      <th>std</th>\n",
       "      <th>min</th>\n",
       "      <th>25%</th>\n",
       "      <th>50%</th>\n",
       "      <th>75%</th>\n",
       "      <th>max</th>\n",
       "    </tr>\n",
       "  </thead>\n",
       "  <tbody>\n",
       "    <tr>\n",
       "      <th>loan_amnt</th>\n",
       "      <td>396030.0</td>\n",
       "      <td>14113.888089</td>\n",
       "      <td>8357.441341</td>\n",
       "      <td>500.00</td>\n",
       "      <td>8000.00</td>\n",
       "      <td>12000.00</td>\n",
       "      <td>20000.00</td>\n",
       "      <td>40000.00</td>\n",
       "    </tr>\n",
       "    <tr>\n",
       "      <th>int_rate</th>\n",
       "      <td>396030.0</td>\n",
       "      <td>13.639400</td>\n",
       "      <td>4.472157</td>\n",
       "      <td>5.32</td>\n",
       "      <td>10.49</td>\n",
       "      <td>13.33</td>\n",
       "      <td>16.49</td>\n",
       "      <td>30.99</td>\n",
       "    </tr>\n",
       "    <tr>\n",
       "      <th>installment</th>\n",
       "      <td>396030.0</td>\n",
       "      <td>431.849698</td>\n",
       "      <td>250.727790</td>\n",
       "      <td>16.08</td>\n",
       "      <td>250.33</td>\n",
       "      <td>375.43</td>\n",
       "      <td>567.30</td>\n",
       "      <td>1533.81</td>\n",
       "    </tr>\n",
       "    <tr>\n",
       "      <th>annual_inc</th>\n",
       "      <td>396030.0</td>\n",
       "      <td>74203.175798</td>\n",
       "      <td>61637.621158</td>\n",
       "      <td>0.00</td>\n",
       "      <td>45000.00</td>\n",
       "      <td>64000.00</td>\n",
       "      <td>90000.00</td>\n",
       "      <td>8706582.00</td>\n",
       "    </tr>\n",
       "    <tr>\n",
       "      <th>dti</th>\n",
       "      <td>396030.0</td>\n",
       "      <td>17.379514</td>\n",
       "      <td>18.019092</td>\n",
       "      <td>0.00</td>\n",
       "      <td>11.28</td>\n",
       "      <td>16.91</td>\n",
       "      <td>22.98</td>\n",
       "      <td>9999.00</td>\n",
       "    </tr>\n",
       "    <tr>\n",
       "      <th>open_acc</th>\n",
       "      <td>396030.0</td>\n",
       "      <td>11.311153</td>\n",
       "      <td>5.137649</td>\n",
       "      <td>0.00</td>\n",
       "      <td>8.00</td>\n",
       "      <td>10.00</td>\n",
       "      <td>14.00</td>\n",
       "      <td>90.00</td>\n",
       "    </tr>\n",
       "    <tr>\n",
       "      <th>pub_rec</th>\n",
       "      <td>396030.0</td>\n",
       "      <td>0.178191</td>\n",
       "      <td>0.530671</td>\n",
       "      <td>0.00</td>\n",
       "      <td>0.00</td>\n",
       "      <td>0.00</td>\n",
       "      <td>0.00</td>\n",
       "      <td>86.00</td>\n",
       "    </tr>\n",
       "    <tr>\n",
       "      <th>revol_bal</th>\n",
       "      <td>396030.0</td>\n",
       "      <td>15844.539853</td>\n",
       "      <td>20591.836109</td>\n",
       "      <td>0.00</td>\n",
       "      <td>6025.00</td>\n",
       "      <td>11181.00</td>\n",
       "      <td>19620.00</td>\n",
       "      <td>1743266.00</td>\n",
       "    </tr>\n",
       "    <tr>\n",
       "      <th>revol_util</th>\n",
       "      <td>395754.0</td>\n",
       "      <td>53.791749</td>\n",
       "      <td>24.452193</td>\n",
       "      <td>0.00</td>\n",
       "      <td>35.80</td>\n",
       "      <td>54.80</td>\n",
       "      <td>72.90</td>\n",
       "      <td>892.30</td>\n",
       "    </tr>\n",
       "    <tr>\n",
       "      <th>total_acc</th>\n",
       "      <td>396030.0</td>\n",
       "      <td>25.414744</td>\n",
       "      <td>11.886991</td>\n",
       "      <td>2.00</td>\n",
       "      <td>17.00</td>\n",
       "      <td>24.00</td>\n",
       "      <td>32.00</td>\n",
       "      <td>151.00</td>\n",
       "    </tr>\n",
       "    <tr>\n",
       "      <th>mort_acc</th>\n",
       "      <td>358235.0</td>\n",
       "      <td>1.813991</td>\n",
       "      <td>2.147930</td>\n",
       "      <td>0.00</td>\n",
       "      <td>0.00</td>\n",
       "      <td>1.00</td>\n",
       "      <td>3.00</td>\n",
       "      <td>34.00</td>\n",
       "    </tr>\n",
       "    <tr>\n",
       "      <th>pub_rec_bankruptcies</th>\n",
       "      <td>395495.0</td>\n",
       "      <td>0.121648</td>\n",
       "      <td>0.356174</td>\n",
       "      <td>0.00</td>\n",
       "      <td>0.00</td>\n",
       "      <td>0.00</td>\n",
       "      <td>0.00</td>\n",
       "      <td>8.00</td>\n",
       "    </tr>\n",
       "  </tbody>\n",
       "</table>\n",
       "</div>"
      ],
      "text/plain": [
       "                         count          mean           std     min       25%  \\\n",
       "loan_amnt             396030.0  14113.888089   8357.441341  500.00   8000.00   \n",
       "int_rate              396030.0     13.639400      4.472157    5.32     10.49   \n",
       "installment           396030.0    431.849698    250.727790   16.08    250.33   \n",
       "annual_inc            396030.0  74203.175798  61637.621158    0.00  45000.00   \n",
       "dti                   396030.0     17.379514     18.019092    0.00     11.28   \n",
       "open_acc              396030.0     11.311153      5.137649    0.00      8.00   \n",
       "pub_rec               396030.0      0.178191      0.530671    0.00      0.00   \n",
       "revol_bal             396030.0  15844.539853  20591.836109    0.00   6025.00   \n",
       "revol_util            395754.0     53.791749     24.452193    0.00     35.80   \n",
       "total_acc             396030.0     25.414744     11.886991    2.00     17.00   \n",
       "mort_acc              358235.0      1.813991      2.147930    0.00      0.00   \n",
       "pub_rec_bankruptcies  395495.0      0.121648      0.356174    0.00      0.00   \n",
       "\n",
       "                           50%       75%         max  \n",
       "loan_amnt             12000.00  20000.00    40000.00  \n",
       "int_rate                 13.33     16.49       30.99  \n",
       "installment             375.43    567.30     1533.81  \n",
       "annual_inc            64000.00  90000.00  8706582.00  \n",
       "dti                      16.91     22.98     9999.00  \n",
       "open_acc                 10.00     14.00       90.00  \n",
       "pub_rec                   0.00      0.00       86.00  \n",
       "revol_bal             11181.00  19620.00  1743266.00  \n",
       "revol_util               54.80     72.90      892.30  \n",
       "total_acc                24.00     32.00      151.00  \n",
       "mort_acc                  1.00      3.00       34.00  \n",
       "pub_rec_bankruptcies      0.00      0.00        8.00  "
      ]
     },
     "execution_count": 5,
     "metadata": {},
     "output_type": "execute_result"
    }
   ],
   "source": [
    "df.describe().transpose()"
   ]
  },
  {
   "cell_type": "code",
   "execution_count": 6,
   "metadata": {},
   "outputs": [
    {
     "name": "stdout",
     "output_type": "stream",
     "text": [
      "<class 'pandas.core.frame.DataFrame'>\n",
      "RangeIndex: 396030 entries, 0 to 396029\n",
      "Data columns (total 27 columns):\n",
      "loan_amnt               396030 non-null float64\n",
      "term                    396030 non-null object\n",
      "int_rate                396030 non-null float64\n",
      "installment             396030 non-null float64\n",
      "grade                   396030 non-null object\n",
      "sub_grade               396030 non-null object\n",
      "emp_title               373103 non-null object\n",
      "emp_length              377729 non-null object\n",
      "home_ownership          396030 non-null object\n",
      "annual_inc              396030 non-null float64\n",
      "verification_status     396030 non-null object\n",
      "issue_d                 396030 non-null object\n",
      "loan_status             396030 non-null object\n",
      "purpose                 396030 non-null object\n",
      "title                   394275 non-null object\n",
      "dti                     396030 non-null float64\n",
      "earliest_cr_line        396030 non-null object\n",
      "open_acc                396030 non-null float64\n",
      "pub_rec                 396030 non-null float64\n",
      "revol_bal               396030 non-null float64\n",
      "revol_util              395754 non-null float64\n",
      "total_acc               396030 non-null float64\n",
      "initial_list_status     396030 non-null object\n",
      "application_type        396030 non-null object\n",
      "mort_acc                358235 non-null float64\n",
      "pub_rec_bankruptcies    395495 non-null float64\n",
      "address                 396030 non-null object\n",
      "dtypes: float64(12), object(15)\n",
      "memory usage: 81.6+ MB\n"
     ]
    }
   ],
   "source": [
    "df.info()"
   ]
  },
  {
   "cell_type": "code",
   "execution_count": 7,
   "metadata": {},
   "outputs": [
    {
     "data": {
      "text/plain": [
       "<matplotlib.axes._subplots.AxesSubplot at 0x1d4587a96c8>"
      ]
     },
     "execution_count": 7,
     "metadata": {},
     "output_type": "execute_result"
    },
    {
     "data": {
      "image/png": "[encoded data removed]",
      "text/plain": [
       "<Figure size 432x288 with 1 Axes>"
      ]
     },
     "metadata": {
      "needs_background": "light"
     },
     "output_type": "display_data"
    }
   ],
   "source": [
    "#Check how the labeled data is balanced\n",
    "sns.countplot(df['loan_status'])"
   ]
  },
  {
   "cell_type": "code",
   "execution_count": 8,
   "metadata": {},
   "outputs": [
    {
     "data": {
      "text/plain": [
       "(12.0, 0.0)"
      ]
     },
     "execution_count": 8,
     "metadata": {},
     "output_type": "execute_result"
    },
    {
     "data": {
      "image/png": "[encoded data removed]",
      "text/plain": [
       "<Figure size 864x576 with 2 Axes>"
      ]
     },
     "metadata": {
      "needs_background": "light"
     },
     "output_type": "display_data"
    }
   ],
   "source": [
    "#See the correlation in the data\n",
    "plt.figure(figsize = (12,8))\n",
    "ax = sns.heatmap(df.corr(), annot = True, cmap = 'viridis')\n",
    "bottom, top = ax.get_ylim()\n",
    "ax.set_ylim(bottom + 0.5, top - 0.5)"
   ]
  },
  {
   "cell_type": "code",
   "execution_count": 9,
   "metadata": {},
   "outputs": [
    {
     "data": {
      "text/plain": [
       "<matplotlib.axes._subplots.AxesSubplot at 0x1d44f124508>"
      ]
     },
     "execution_count": 9,
     "metadata": {},
     "output_type": "execute_result"
    },
    {
     "data": {
      "image/png": "[encoded data removed]",
      "text/plain": [
       "<Figure size 432x288 with 1 Axes>"
      ]
     },
     "metadata": {
      "needs_background": "light"
     },
     "output_type": "display_data"
    }
   ],
   "source": [
    "#Check the relation b/w loan amount and loan status\n",
    "sns.boxplot('loan_status', 'loan_amnt', data = df)"
   ]
  },
  {
   "cell_type": "code",
   "execution_count": 10,
   "metadata": {},
   "outputs": [
    {
     "data": {
      "text/html": [
       "<div>\n",
       "<style scoped>\n",
       "    .dataframe tbody tr th:only-of-type {\n",
       "        vertical-align: middle;\n",
       "    }\n",
       "\n",
       "    .dataframe tbody tr th {\n",
       "        vertical-align: top;\n",
       "    }\n",
       "\n",
       "    .dataframe thead th {\n",
       "        text-align: right;\n",
       "    }\n",
       "</style>\n",
       "<table border=\"1\" class=\"dataframe\">\n",
       "  <thead>\n",
       "    <tr style=\"text-align: right;\">\n",
       "      <th></th>\n",
       "      <th>count</th>\n",
       "      <th>mean</th>\n",
       "      <th>std</th>\n",
       "      <th>min</th>\n",
       "      <th>25%</th>\n",
       "      <th>50%</th>\n",
       "      <th>75%</th>\n",
       "      <th>max</th>\n",
       "    </tr>\n",
       "    <tr>\n",
       "      <th>loan_status</th>\n",
       "      <th></th>\n",
       "      <th></th>\n",
       "      <th></th>\n",
       "      <th></th>\n",
       "      <th></th>\n",
       "      <th></th>\n",
       "      <th></th>\n",
       "      <th></th>\n",
       "    </tr>\n",
       "  </thead>\n",
       "  <tbody>\n",
       "    <tr>\n",
       "      <th>Charged Off</th>\n",
       "      <td>77673.0</td>\n",
       "      <td>15126.300967</td>\n",
       "      <td>8505.090557</td>\n",
       "      <td>1000.0</td>\n",
       "      <td>8525.0</td>\n",
       "      <td>14000.0</td>\n",
       "      <td>20000.0</td>\n",
       "      <td>40000.0</td>\n",
       "    </tr>\n",
       "    <tr>\n",
       "      <th>Fully Paid</th>\n",
       "      <td>318357.0</td>\n",
       "      <td>13866.878771</td>\n",
       "      <td>8302.319699</td>\n",
       "      <td>500.0</td>\n",
       "      <td>7500.0</td>\n",
       "      <td>12000.0</td>\n",
       "      <td>19225.0</td>\n",
       "      <td>40000.0</td>\n",
       "    </tr>\n",
       "  </tbody>\n",
       "</table>\n",
       "</div>"
      ],
      "text/plain": [
       "                count          mean          std     min     25%      50%  \\\n",
       "loan_status                                                                 \n",
       "Charged Off   77673.0  15126.300967  8505.090557  1000.0  8525.0  14000.0   \n",
       "Fully Paid   318357.0  13866.878771  8302.319699   500.0  7500.0  12000.0   \n",
       "\n",
       "                 75%      max  \n",
       "loan_status                    \n",
       "Charged Off  20000.0  40000.0  \n",
       "Fully Paid   19225.0  40000.0  "
      ]
     },
     "execution_count": 10,
     "metadata": {},
     "output_type": "execute_result"
    }
   ],
   "source": [
    "# Loan status statistics\n",
    "df.groupby(['loan_status'])['loan_amnt'].describe()"
   ]
  },
  {
   "cell_type": "code",
   "execution_count": 11,
   "metadata": {},
   "outputs": [
    {
     "data": {
      "text/html": [
       "<div>\n",
       "<style scoped>\n",
       "    .dataframe tbody tr th:only-of-type {\n",
       "        vertical-align: middle;\n",
       "    }\n",
       "\n",
       "    .dataframe tbody tr th {\n",
       "        vertical-align: top;\n",
       "    }\n",
       "\n",
       "    .dataframe thead th {\n",
       "        text-align: right;\n",
       "    }\n",
       "</style>\n",
       "<table border=\"1\" class=\"dataframe\">\n",
       "  <thead>\n",
       "    <tr style=\"text-align: right;\">\n",
       "      <th></th>\n",
       "      <th>0</th>\n",
       "      <th>1</th>\n",
       "      <th>2</th>\n",
       "      <th>3</th>\n",
       "    </tr>\n",
       "  </thead>\n",
       "  <tbody>\n",
       "    <tr>\n",
       "      <th>loan_amnt</th>\n",
       "      <td>10000</td>\n",
       "      <td>8000</td>\n",
       "      <td>15600</td>\n",
       "      <td>7200</td>\n",
       "    </tr>\n",
       "    <tr>\n",
       "      <th>term</th>\n",
       "      <td>36 months</td>\n",
       "      <td>36 months</td>\n",
       "      <td>36 months</td>\n",
       "      <td>36 months</td>\n",
       "    </tr>\n",
       "    <tr>\n",
       "      <th>int_rate</th>\n",
       "      <td>11.44</td>\n",
       "      <td>11.99</td>\n",
       "      <td>10.49</td>\n",
       "      <td>6.49</td>\n",
       "    </tr>\n",
       "    <tr>\n",
       "      <th>installment</th>\n",
       "      <td>329.48</td>\n",
       "      <td>265.68</td>\n",
       "      <td>506.97</td>\n",
       "      <td>220.65</td>\n",
       "    </tr>\n",
       "    <tr>\n",
       "      <th>grade</th>\n",
       "      <td>B</td>\n",
       "      <td>B</td>\n",
       "      <td>B</td>\n",
       "      <td>A</td>\n",
       "    </tr>\n",
       "    <tr>\n",
       "      <th>sub_grade</th>\n",
       "      <td>B4</td>\n",
       "      <td>B5</td>\n",
       "      <td>B3</td>\n",
       "      <td>A2</td>\n",
       "    </tr>\n",
       "    <tr>\n",
       "      <th>emp_title</th>\n",
       "      <td>Marketing</td>\n",
       "      <td>Credit analyst</td>\n",
       "      <td>Statistician</td>\n",
       "      <td>Client Advocate</td>\n",
       "    </tr>\n",
       "    <tr>\n",
       "      <th>emp_length</th>\n",
       "      <td>10+ years</td>\n",
       "      <td>4 years</td>\n",
       "      <td>&lt; 1 year</td>\n",
       "      <td>6 years</td>\n",
       "    </tr>\n",
       "    <tr>\n",
       "      <th>home_ownership</th>\n",
       "      <td>RENT</td>\n",
       "      <td>MORTGAGE</td>\n",
       "      <td>RENT</td>\n",
       "      <td>RENT</td>\n",
       "    </tr>\n",
       "    <tr>\n",
       "      <th>annual_inc</th>\n",
       "      <td>117000</td>\n",
       "      <td>65000</td>\n",
       "      <td>43057</td>\n",
       "      <td>54000</td>\n",
       "    </tr>\n",
       "    <tr>\n",
       "      <th>verification_status</th>\n",
       "      <td>Not Verified</td>\n",
       "      <td>Not Verified</td>\n",
       "      <td>Source Verified</td>\n",
       "      <td>Not Verified</td>\n",
       "    </tr>\n",
       "    <tr>\n",
       "      <th>issue_d</th>\n",
       "      <td>Jan-2015</td>\n",
       "      <td>Jan-2015</td>\n",
       "      <td>Jan-2015</td>\n",
       "      <td>Nov-2014</td>\n",
       "    </tr>\n",
       "    <tr>\n",
       "      <th>loan_status</th>\n",
       "      <td>Fully Paid</td>\n",
       "      <td>Fully Paid</td>\n",
       "      <td>Fully Paid</td>\n",
       "      <td>Fully Paid</td>\n",
       "    </tr>\n",
       "    <tr>\n",
       "      <th>purpose</th>\n",
       "      <td>vacation</td>\n",
       "      <td>debt_consolidation</td>\n",
       "      <td>credit_card</td>\n",
       "      <td>credit_card</td>\n",
       "    </tr>\n",
       "    <tr>\n",
       "      <th>title</th>\n",
       "      <td>Vacation</td>\n",
       "      <td>Debt consolidation</td>\n",
       "      <td>Credit card refinancing</td>\n",
       "      <td>Credit card refinancing</td>\n",
       "    </tr>\n",
       "    <tr>\n",
       "      <th>dti</th>\n",
       "      <td>26.24</td>\n",
       "      <td>22.05</td>\n",
       "      <td>12.79</td>\n",
       "      <td>2.6</td>\n",
       "    </tr>\n",
       "    <tr>\n",
       "      <th>earliest_cr_line</th>\n",
       "      <td>Jun-1990</td>\n",
       "      <td>Jul-2004</td>\n",
       "      <td>Aug-2007</td>\n",
       "      <td>Sep-2006</td>\n",
       "    </tr>\n",
       "    <tr>\n",
       "      <th>open_acc</th>\n",
       "      <td>16</td>\n",
       "      <td>17</td>\n",
       "      <td>13</td>\n",
       "      <td>6</td>\n",
       "    </tr>\n",
       "    <tr>\n",
       "      <th>pub_rec</th>\n",
       "      <td>0</td>\n",
       "      <td>0</td>\n",
       "      <td>0</td>\n",
       "      <td>0</td>\n",
       "    </tr>\n",
       "    <tr>\n",
       "      <th>revol_bal</th>\n",
       "      <td>36369</td>\n",
       "      <td>20131</td>\n",
       "      <td>11987</td>\n",
       "      <td>5472</td>\n",
       "    </tr>\n",
       "    <tr>\n",
       "      <th>revol_util</th>\n",
       "      <td>41.8</td>\n",
       "      <td>53.3</td>\n",
       "      <td>92.2</td>\n",
       "      <td>21.5</td>\n",
       "    </tr>\n",
       "    <tr>\n",
       "      <th>total_acc</th>\n",
       "      <td>25</td>\n",
       "      <td>27</td>\n",
       "      <td>26</td>\n",
       "      <td>13</td>\n",
       "    </tr>\n",
       "    <tr>\n",
       "      <th>initial_list_status</th>\n",
       "      <td>w</td>\n",
       "      <td>f</td>\n",
       "      <td>f</td>\n",
       "      <td>f</td>\n",
       "    </tr>\n",
       "    <tr>\n",
       "      <th>application_type</th>\n",
       "      <td>INDIVIDUAL</td>\n",
       "      <td>INDIVIDUAL</td>\n",
       "      <td>INDIVIDUAL</td>\n",
       "      <td>INDIVIDUAL</td>\n",
       "    </tr>\n",
       "    <tr>\n",
       "      <th>mort_acc</th>\n",
       "      <td>0</td>\n",
       "      <td>3</td>\n",
       "      <td>0</td>\n",
       "      <td>0</td>\n",
       "    </tr>\n",
       "    <tr>\n",
       "      <th>pub_rec_bankruptcies</th>\n",
       "      <td>0</td>\n",
       "      <td>0</td>\n",
       "      <td>0</td>\n",
       "      <td>0</td>\n",
       "    </tr>\n",
       "    <tr>\n",
       "      <th>address</th>\n",
       "      <td>0174 Michelle Gateway\\r\\nMendozaberg, OK 22690</td>\n",
       "      <td>1076 Carney Fort Apt. 347\\r\\nLoganmouth, SD 05113</td>\n",
       "      <td>87025 Mark Dale Apt. 269\\r\\nNew Sabrina, WV 05113</td>\n",
       "      <td>823 Reid Ford\\r\\nDelacruzside, MA 00813</td>\n",
       "    </tr>\n",
       "  </tbody>\n",
       "</table>\n",
       "</div>"
      ],
      "text/plain": [
       "                                                                   0  \\\n",
       "loan_amnt                                                      10000   \n",
       "term                                                       36 months   \n",
       "int_rate                                                       11.44   \n",
       "installment                                                   329.48   \n",
       "grade                                                              B   \n",
       "sub_grade                                                         B4   \n",
       "emp_title                                                  Marketing   \n",
       "emp_length                                                 10+ years   \n",
       "home_ownership                                                  RENT   \n",
       "annual_inc                                                    117000   \n",
       "verification_status                                     Not Verified   \n",
       "issue_d                                                     Jan-2015   \n",
       "loan_status                                               Fully Paid   \n",
       "purpose                                                     vacation   \n",
       "title                                                       Vacation   \n",
       "dti                                                            26.24   \n",
       "earliest_cr_line                                            Jun-1990   \n",
       "open_acc                                                          16   \n",
       "pub_rec                                                            0   \n",
       "revol_bal                                                      36369   \n",
       "revol_util                                                      41.8   \n",
       "total_acc                                                         25   \n",
       "initial_list_status                                                w   \n",
       "application_type                                          INDIVIDUAL   \n",
       "mort_acc                                                           0   \n",
       "pub_rec_bankruptcies                                               0   \n",
       "address               0174 Michelle Gateway\\r\\nMendozaberg, OK 22690   \n",
       "\n",
       "                                                                      1  \\\n",
       "loan_amnt                                                          8000   \n",
       "term                                                          36 months   \n",
       "int_rate                                                          11.99   \n",
       "installment                                                      265.68   \n",
       "grade                                                                 B   \n",
       "sub_grade                                                            B5   \n",
       "emp_title                                               Credit analyst    \n",
       "emp_length                                                      4 years   \n",
       "home_ownership                                                 MORTGAGE   \n",
       "annual_inc                                                        65000   \n",
       "verification_status                                        Not Verified   \n",
       "issue_d                                                        Jan-2015   \n",
       "loan_status                                                  Fully Paid   \n",
       "purpose                                              debt_consolidation   \n",
       "title                                                Debt consolidation   \n",
       "dti                                                               22.05   \n",
       "earliest_cr_line                                               Jul-2004   \n",
       "open_acc                                                             17   \n",
       "pub_rec                                                               0   \n",
       "revol_bal                                                         20131   \n",
       "revol_util                                                         53.3   \n",
       "total_acc                                                            27   \n",
       "initial_list_status                                                   f   \n",
       "application_type                                             INDIVIDUAL   \n",
       "mort_acc                                                              3   \n",
       "pub_rec_bankruptcies                                                  0   \n",
       "address               1076 Carney Fort Apt. 347\\r\\nLoganmouth, SD 05113   \n",
       "\n",
       "                                                                      2  \\\n",
       "loan_amnt                                                         15600   \n",
       "term                                                          36 months   \n",
       "int_rate                                                          10.49   \n",
       "installment                                                      506.97   \n",
       "grade                                                                 B   \n",
       "sub_grade                                                            B3   \n",
       "emp_title                                                  Statistician   \n",
       "emp_length                                                     < 1 year   \n",
       "home_ownership                                                     RENT   \n",
       "annual_inc                                                        43057   \n",
       "verification_status                                     Source Verified   \n",
       "issue_d                                                        Jan-2015   \n",
       "loan_status                                                  Fully Paid   \n",
       "purpose                                                     credit_card   \n",
       "title                                           Credit card refinancing   \n",
       "dti                                                               12.79   \n",
       "earliest_cr_line                                               Aug-2007   \n",
       "open_acc                                                             13   \n",
       "pub_rec                                                               0   \n",
       "revol_bal                                                         11987   \n",
       "revol_util                                                         92.2   \n",
       "total_acc                                                            26   \n",
       "initial_list_status                                                   f   \n",
       "application_type                                             INDIVIDUAL   \n",
       "mort_acc                                                              0   \n",
       "pub_rec_bankruptcies                                                  0   \n",
       "address               87025 Mark Dale Apt. 269\\r\\nNew Sabrina, WV 05113   \n",
       "\n",
       "                                                            3  \n",
       "loan_amnt                                                7200  \n",
       "term                                                36 months  \n",
       "int_rate                                                 6.49  \n",
       "installment                                            220.65  \n",
       "grade                                                       A  \n",
       "sub_grade                                                  A2  \n",
       "emp_title                                     Client Advocate  \n",
       "emp_length                                            6 years  \n",
       "home_ownership                                           RENT  \n",
       "annual_inc                                              54000  \n",
       "verification_status                              Not Verified  \n",
       "issue_d                                              Nov-2014  \n",
       "loan_status                                        Fully Paid  \n",
       "purpose                                           credit_card  \n",
       "title                                 Credit card refinancing  \n",
       "dti                                                       2.6  \n",
       "earliest_cr_line                                     Sep-2006  \n",
       "open_acc                                                    6  \n",
       "pub_rec                                                     0  \n",
       "revol_bal                                                5472  \n",
       "revol_util                                               21.5  \n",
       "total_acc                                                  13  \n",
       "initial_list_status                                         f  \n",
       "application_type                                   INDIVIDUAL  \n",
       "mort_acc                                                    0  \n",
       "pub_rec_bankruptcies                                        0  \n",
       "address               823 Reid Ford\\r\\nDelacruzside, MA 00813  "
      ]
     },
     "execution_count": 11,
     "metadata": {},
     "output_type": "execute_result"
    }
   ],
   "source": [
    "#Look in the data and see if there are any duplicate columns\n",
    "df.head(4).transpose()"
   ]
  },
  {
   "cell_type": "code",
   "execution_count": 12,
   "metadata": {},
   "outputs": [
    {
     "data": {
      "text/plain": [
       "['A', 'B', 'C', 'D', 'E', 'F', 'G']"
      ]
     },
     "execution_count": 12,
     "metadata": {},
     "output_type": "execute_result"
    }
   ],
   "source": [
    "#Check feature - grade, sub_garde\n",
    "sorted(df['grade'].unique())"
   ]
  },
  {
   "cell_type": "code",
   "execution_count": 13,
   "metadata": {},
   "outputs": [
    {
     "data": {
      "text/plain": [
       "['A1',\n",
       " 'A2',\n",
       " 'A3',\n",
       " 'A4',\n",
       " 'A5',\n",
       " 'B1',\n",
       " 'B2',\n",
       " 'B3',\n",
       " 'B4',\n",
       " 'B5',\n",
       " 'C1',\n",
       " 'C2',\n",
       " 'C3',\n",
       " 'C4',\n",
       " 'C5',\n",
       " 'D1',\n",
       " 'D2',\n",
       " 'D3',\n",
       " 'D4',\n",
       " 'D5',\n",
       " 'E1',\n",
       " 'E2',\n",
       " 'E3',\n",
       " 'E4',\n",
       " 'E5',\n",
       " 'F1',\n",
       " 'F2',\n",
       " 'F3',\n",
       " 'F4',\n",
       " 'F5',\n",
       " 'G1',\n",
       " 'G2',\n",
       " 'G3',\n",
       " 'G4',\n",
       " 'G5']"
      ]
     },
     "execution_count": 13,
     "metadata": {},
     "output_type": "execute_result"
    }
   ],
   "source": [
    "#Check feature - sub_garde\n",
    "sorted(df['sub_grade'].unique())"
   ]
  },
  {
   "cell_type": "code",
   "execution_count": 14,
   "metadata": {},
   "outputs": [
    {
     "data": {
      "text/plain": [
       "<matplotlib.axes._subplots.AxesSubplot at 0x1d4511ae188>"
      ]
     },
     "execution_count": 14,
     "metadata": {},
     "output_type": "execute_result"
    },
    {
     "data": {
      "image/png": "[encoded data removed]",
      "text/plain": [
       "<Figure size 432x288 with 1 Axes>"
      ]
     },
     "metadata": {
      "needs_background": "light"
     },
     "output_type": "display_data"
    }
   ],
   "source": [
    "#See the relation bw grade and loan status\n",
    "sns.countplot('grade', data = df, hue = 'loan_status')"
   ]
  },
  {
   "cell_type": "code",
   "execution_count": 15,
   "metadata": {},
   "outputs": [
    {
     "data": {
      "text/plain": [
       "array(['Fully Paid', 'Charged Off'], dtype=object)"
      ]
     },
     "execution_count": 15,
     "metadata": {},
     "output_type": "execute_result"
    }
   ],
   "source": [
    "#Replace loan status categories to binary - paid 1, charged off 0\n",
    "df['loan_status'].unique()"
   ]
  },
  {
   "cell_type": "code",
   "execution_count": 16,
   "metadata": {},
   "outputs": [
    {
     "data": {
      "text/html": [
       "<div>\n",
       "<style scoped>\n",
       "    .dataframe tbody tr th:only-of-type {\n",
       "        vertical-align: middle;\n",
       "    }\n",
       "\n",
       "    .dataframe tbody tr th {\n",
       "        vertical-align: top;\n",
       "    }\n",
       "\n",
       "    .dataframe thead th {\n",
       "        text-align: right;\n",
       "    }\n",
       "</style>\n",
       "<table border=\"1\" class=\"dataframe\">\n",
       "  <thead>\n",
       "    <tr style=\"text-align: right;\">\n",
       "      <th></th>\n",
       "      <th>loan_repaid</th>\n",
       "      <th>loan_status</th>\n",
       "    </tr>\n",
       "  </thead>\n",
       "  <tbody>\n",
       "    <tr>\n",
       "      <th>0</th>\n",
       "      <td>1</td>\n",
       "      <td>Fully Paid</td>\n",
       "    </tr>\n",
       "    <tr>\n",
       "      <th>1</th>\n",
       "      <td>1</td>\n",
       "      <td>Fully Paid</td>\n",
       "    </tr>\n",
       "    <tr>\n",
       "      <th>2</th>\n",
       "      <td>1</td>\n",
       "      <td>Fully Paid</td>\n",
       "    </tr>\n",
       "    <tr>\n",
       "      <th>3</th>\n",
       "      <td>1</td>\n",
       "      <td>Fully Paid</td>\n",
       "    </tr>\n",
       "    <tr>\n",
       "      <th>4</th>\n",
       "      <td>0</td>\n",
       "      <td>Charged Off</td>\n",
       "    </tr>\n",
       "    <tr>\n",
       "      <th>...</th>\n",
       "      <td>...</td>\n",
       "      <td>...</td>\n",
       "    </tr>\n",
       "    <tr>\n",
       "      <th>396025</th>\n",
       "      <td>1</td>\n",
       "      <td>Fully Paid</td>\n",
       "    </tr>\n",
       "    <tr>\n",
       "      <th>396026</th>\n",
       "      <td>1</td>\n",
       "      <td>Fully Paid</td>\n",
       "    </tr>\n",
       "    <tr>\n",
       "      <th>396027</th>\n",
       "      <td>1</td>\n",
       "      <td>Fully Paid</td>\n",
       "    </tr>\n",
       "    <tr>\n",
       "      <th>396028</th>\n",
       "      <td>1</td>\n",
       "      <td>Fully Paid</td>\n",
       "    </tr>\n",
       "    <tr>\n",
       "      <th>396029</th>\n",
       "      <td>1</td>\n",
       "      <td>Fully Paid</td>\n",
       "    </tr>\n",
       "  </tbody>\n",
       "</table>\n",
       "<p>396030 rows × 2 columns</p>\n",
       "</div>"
      ],
      "text/plain": [
       "        loan_repaid  loan_status\n",
       "0                 1   Fully Paid\n",
       "1                 1   Fully Paid\n",
       "2                 1   Fully Paid\n",
       "3                 1   Fully Paid\n",
       "4                 0  Charged Off\n",
       "...             ...          ...\n",
       "396025            1   Fully Paid\n",
       "396026            1   Fully Paid\n",
       "396027            1   Fully Paid\n",
       "396028            1   Fully Paid\n",
       "396029            1   Fully Paid\n",
       "\n",
       "[396030 rows x 2 columns]"
      ]
     },
     "execution_count": 16,
     "metadata": {},
     "output_type": "execute_result"
    }
   ],
   "source": [
    "df['loan_repaid'] = df['loan_status'].map({'Fully Paid' : 1, 'Charged Off' : 0})\n",
    "df[['loan_repaid','loan_status']]"
   ]
  },
  {
   "cell_type": "code",
   "execution_count": 17,
   "metadata": {},
   "outputs": [
    {
     "data": {
      "text/plain": [
       "<matplotlib.axes._subplots.AxesSubplot at 0x1d451245d88>"
      ]
     },
     "execution_count": 17,
     "metadata": {},
     "output_type": "execute_result"
    },
    {
     "data": {
      "image/png": "[encoded data removed]",
      "text/plain": [
       "<Figure size 432x288 with 1 Axes>"
      ]
     },
     "metadata": {
      "needs_background": "light"
     },
     "output_type": "display_data"
    }
   ],
   "source": [
    "#Show correlatin of numeric features with newly created column - 'loan_repaid'\n",
    "df.corr()['loan_repaid'][:-1].sort_values().plot(kind = 'bar')"
   ]
  },
  {
   "cell_type": "markdown",
   "metadata": {},
   "source": [
    "## Section 2: Data preprocessing\n",
    "**Section Goals: Remove or fill any missing data. Remove unnecessary or repetitive features. Convert categorical string features to dummy variables.**"
   ]
  },
  {
   "cell_type": "markdown",
   "metadata": {},
   "source": [
    "# Missing Data\n",
    "\n",
    "**Let's explore this missing data columns. We use a variety of factors to decide whether or not they would be useful, to see if we should keep, discard, or fill in the missing data.**"
   ]
  },
  {
   "cell_type": "code",
   "execution_count": 18,
   "metadata": {},
   "outputs": [
    {
     "data": {
      "text/plain": [
       "loan_amnt                   0\n",
       "term                        0\n",
       "int_rate                    0\n",
       "installment                 0\n",
       "grade                       0\n",
       "sub_grade                   0\n",
       "emp_title               22927\n",
       "emp_length              18301\n",
       "home_ownership              0\n",
       "annual_inc                  0\n",
       "verification_status         0\n",
       "issue_d                     0\n",
       "loan_status                 0\n",
       "purpose                     0\n",
       "title                    1755\n",
       "dti                         0\n",
       "earliest_cr_line            0\n",
       "open_acc                    0\n",
       "pub_rec                     0\n",
       "revol_bal                   0\n",
       "revol_util                276\n",
       "total_acc                   0\n",
       "initial_list_status         0\n",
       "application_type            0\n",
       "mort_acc                37795\n",
       "pub_rec_bankruptcies      535\n",
       "address                     0\n",
       "loan_repaid                 0\n",
       "dtype: int64"
      ]
     },
     "execution_count": 18,
     "metadata": {},
     "output_type": "execute_result"
    }
   ],
   "source": [
    "#Count of missing elements in each feature\n",
    "df.isnull().sum()"
   ]
  },
  {
   "cell_type": "code",
   "execution_count": 19,
   "metadata": {},
   "outputs": [
    {
     "data": {
      "text/plain": [
       "loan_amnt               0.000000\n",
       "term                    0.000000\n",
       "int_rate                0.000000\n",
       "installment             0.000000\n",
       "grade                   0.000000\n",
       "sub_grade               0.000000\n",
       "emp_title               5.789208\n",
       "emp_length              4.621115\n",
       "home_ownership          0.000000\n",
       "annual_inc              0.000000\n",
       "verification_status     0.000000\n",
       "issue_d                 0.000000\n",
       "loan_status             0.000000\n",
       "purpose                 0.000000\n",
       "title                   0.443148\n",
       "dti                     0.000000\n",
       "earliest_cr_line        0.000000\n",
       "open_acc                0.000000\n",
       "pub_rec                 0.000000\n",
       "revol_bal               0.000000\n",
       "revol_util              0.069692\n",
       "total_acc               0.000000\n",
       "initial_list_status     0.000000\n",
       "application_type        0.000000\n",
       "mort_acc                9.543469\n",
       "pub_rec_bankruptcies    0.135091\n",
       "address                 0.000000\n",
       "loan_repaid             0.000000\n",
       "dtype: float64"
      ]
     },
     "execution_count": 19,
     "metadata": {},
     "output_type": "execute_result"
    }
   ],
   "source": [
    "# percentage of missing data in total dataframe\n",
    "df.isnull().sum()*100/len(df)"
   ]
  },
  {
   "cell_type": "markdown",
   "metadata": {},
   "source": [
    "**TASK: Let's examine emp_title and emp_length to see whether it will be okay to drop them**"
   ]
  },
  {
   "cell_type": "markdown",
   "metadata": {},
   "source": [
    "#### Missing entries in feature - emp_title"
   ]
  },
  {
   "cell_type": "code",
   "execution_count": 20,
   "metadata": {},
   "outputs": [
    {
     "data": {
      "text/plain": [
       "Teacher                      4389\n",
       "Manager                      4250\n",
       "Registered Nurse             1856\n",
       "RN                           1846\n",
       "Supervisor                   1830\n",
       "                             ... \n",
       "Harvard University AA&D         1\n",
       "fine jewelery sales             1\n",
       "Arnold Continuous Gutters       1\n",
       "Data Warehouse Analyst          1\n",
       "CLSS                            1\n",
       "Name: emp_title, Length: 173105, dtype: int64"
      ]
     },
     "execution_count": 20,
     "metadata": {},
     "output_type": "execute_result"
    }
   ],
   "source": [
    "#Employee title feature analysis\n",
    "df['emp_title'].value_counts()"
   ]
  },
  {
   "cell_type": "code",
   "execution_count": 21,
   "metadata": {},
   "outputs": [],
   "source": [
    "#seems there are lot of unique employee codes (173105), it is hard to convert in to one-hot encoding\n",
    "#This feature can be drooped\n",
    "df.drop('emp_title', axis = 1, inplace = True)"
   ]
  },
  {
   "cell_type": "code",
   "execution_count": 22,
   "metadata": {},
   "outputs": [
    {
     "data": {
      "text/plain": [
       "Index(['loan_amnt', 'term', 'int_rate', 'installment', 'grade', 'sub_grade',\n",
       "       'emp_length', 'home_ownership', 'annual_inc', 'verification_status',\n",
       "       'issue_d', 'loan_status', 'purpose', 'title', 'dti', 'earliest_cr_line',\n",
       "       'open_acc', 'pub_rec', 'revol_bal', 'revol_util', 'total_acc',\n",
       "       'initial_list_status', 'application_type', 'mort_acc',\n",
       "       'pub_rec_bankruptcies', 'address', 'loan_repaid'],\n",
       "      dtype='object')"
      ]
     },
     "execution_count": 22,
     "metadata": {},
     "output_type": "execute_result"
    }
   ],
   "source": [
    "df.columns"
   ]
  },
  {
   "cell_type": "markdown",
   "metadata": {},
   "source": [
    "#### Missing entries in feature - emp_length"
   ]
  },
  {
   "cell_type": "code",
   "execution_count": 23,
   "metadata": {},
   "outputs": [
    {
     "data": {
      "text/plain": [
       "4.621114562028129"
      ]
     },
     "execution_count": 23,
     "metadata": {},
     "output_type": "execute_result"
    }
   ],
   "source": [
    "#Percentage of missing elements in emp_length feature\n",
    "df['emp_length'].isnull().sum()/len(df['emp_length'])*100\n",
    "#Percentage of missing entries are less, can think of replacing the missing elements if this feature really makes sense"
   ]
  },
  {
   "cell_type": "code",
   "execution_count": 24,
   "metadata": {},
   "outputs": [],
   "source": [
    "#Check how important is the feature - emp_length\n",
    "#Check the prediction o/p (loan_repaid status) decently depends on this feature or not ?"
   ]
  },
  {
   "cell_type": "code",
   "execution_count": 25,
   "metadata": {},
   "outputs": [
    {
     "data": {
      "text/plain": [
       "10+ years    126041\n",
       "2 years       35827\n",
       "< 1 year      31725\n",
       "3 years       31665\n",
       "5 years       26495\n",
       "1 year        25882\n",
       "4 years       23952\n",
       "6 years       20841\n",
       "7 years       20819\n",
       "8 years       19168\n",
       "9 years       15314\n",
       "Name: emp_length, dtype: int64"
      ]
     },
     "execution_count": 25,
     "metadata": {},
     "output_type": "execute_result"
    }
   ],
   "source": [
    "#Check the categories in emp_length feature\n",
    "df['emp_length'].value_counts()"
   ]
  },
  {
   "cell_type": "code",
   "execution_count": 26,
   "metadata": {},
   "outputs": [
    {
     "data": {
      "text/plain": [
       "<matplotlib.axes._subplots.AxesSubplot at 0x1d45127e248>"
      ]
     },
     "execution_count": 26,
     "metadata": {},
     "output_type": "execute_result"
    },
    {
     "data": {
      "image/png": "[encoded data removed]",
      "text/plain": [
       "<Figure size 720x360 with 1 Axes>"
      ]
     },
     "metadata": {
      "needs_background": "light"
     },
     "output_type": "display_data"
    }
   ],
   "source": [
    "#visualise employment length vs loan repaid status\n",
    "plt.figure(figsize = (10,5))\n",
    "sns.countplot('emp_length', hue = 'loan_repaid', data = df)"
   ]
  },
  {
   "cell_type": "code",
   "execution_count": 27,
   "metadata": {},
   "outputs": [
    {
     "data": {
      "text/plain": [
       "emp_length\n",
       "1 year        5154\n",
       "10+ years    23215\n",
       "2 years       6924\n",
       "3 years       6182\n",
       "4 years       4608\n",
       "5 years       5092\n",
       "6 years       3943\n",
       "7 years       4055\n",
       "8 years       3829\n",
       "9 years       3070\n",
       "< 1 year      6563\n",
       "Name: loan_status, dtype: int64"
      ]
     },
     "execution_count": 27,
     "metadata": {},
     "output_type": "execute_result"
    }
   ],
   "source": [
    "#Check how these categories affect prediction output (loan_status)\n",
    "\n",
    "#number of charged_off cases in each category\n",
    "emp_not_paid =  df[df['loan_status'] == 'Charged Off'].groupby('emp_length').count()['loan_status']\n",
    "emp_not_paid"
   ]
  },
  {
   "cell_type": "code",
   "execution_count": 28,
   "metadata": {},
   "outputs": [
    {
     "data": {
      "text/plain": [
       "emp_length\n",
       "1 year        20728\n",
       "10+ years    102826\n",
       "2 years       28903\n",
       "3 years       25483\n",
       "4 years       19344\n",
       "5 years       21403\n",
       "6 years       16898\n",
       "7 years       16764\n",
       "8 years       15339\n",
       "9 years       12244\n",
       "< 1 year      25162\n",
       "Name: loan_status, dtype: int64"
      ]
     },
     "execution_count": 28,
     "metadata": {},
     "output_type": "execute_result"
    }
   ],
   "source": [
    "#number of fully paid cases in each category\n",
    "emp_paid =  df[df['loan_status'] == 'Fully Paid'].groupby('emp_length').count()['loan_status']\n",
    "emp_paid"
   ]
  },
  {
   "cell_type": "code",
   "execution_count": 29,
   "metadata": {},
   "outputs": [
    {
     "data": {
      "text/plain": [
       "<matplotlib.axes._subplots.AxesSubplot at 0x1d4516125c8>"
      ]
     },
     "execution_count": 29,
     "metadata": {},
     "output_type": "execute_result"
    },
    {
     "data": {
      "image/png": "[encoded data removed]",
      "text/plain": [
       "<Figure size 432x288 with 1 Axes>"
      ]
     },
     "metadata": {
      "needs_background": "light"
     },
     "output_type": "display_data"
    }
   ],
   "source": [
    "# Check percentage of employees not paid the loan based on their categories(2yr, 3yr etc)\n",
    "\n",
    "(emp_not_paid/emp_paid).plot(kind= 'bar')"
   ]
  },
  {
   "cell_type": "markdown",
   "metadata": {},
   "source": [
    "#### Feature emp_length can be dropped\n",
    "** It is clear that the feature (emp_lenght) will not affect the predictions much, \n",
    "because all the categories are well balanced and not providing any clear indicction about predictions **"
   ]
  },
  {
   "cell_type": "code",
   "execution_count": 30,
   "metadata": {},
   "outputs": [],
   "source": [
    "#Drop feature - emp_length\n",
    "df.drop('emp_length', axis = 1, inplace = True)"
   ]
  },
  {
   "cell_type": "markdown",
   "metadata": {},
   "source": [
    "#### Missing entries in feature - title"
   ]
  },
  {
   "cell_type": "code",
   "execution_count": 31,
   "metadata": {},
   "outputs": [
    {
     "data": {
      "text/plain": [
       "Index(['loan_amnt', 'term', 'int_rate', 'installment', 'grade', 'sub_grade',\n",
       "       'home_ownership', 'annual_inc', 'verification_status', 'issue_d',\n",
       "       'loan_status', 'purpose', 'title', 'dti', 'earliest_cr_line',\n",
       "       'open_acc', 'pub_rec', 'revol_bal', 'revol_util', 'total_acc',\n",
       "       'initial_list_status', 'application_type', 'mort_acc',\n",
       "       'pub_rec_bankruptcies', 'address', 'loan_repaid'],\n",
       "      dtype='object')"
      ]
     },
     "execution_count": 31,
     "metadata": {},
     "output_type": "execute_result"
    }
   ],
   "source": [
    "df.columns"
   ]
  },
  {
   "cell_type": "code",
   "execution_count": 32,
   "metadata": {},
   "outputs": [],
   "source": [
    "#features - title and pupose feature data is same - drop the ti\n",
    "df.drop('title' , axis = 1, inplace = True)"
   ]
  },
  {
   "cell_type": "markdown",
   "metadata": {},
   "source": [
    "#### Missing entries in feature - mort_acc : number of mortgage accounts"
   ]
  },
  {
   "cell_type": "code",
   "execution_count": 33,
   "metadata": {},
   "outputs": [
    {
     "data": {
      "text/plain": [
       "<matplotlib.axes._subplots.AxesSubplot at 0x1d45166c4c8>"
      ]
     },
     "execution_count": 33,
     "metadata": {},
     "output_type": "execute_result"
    },
    {
     "data": {
      "image/png": "[encoded data removed]",
      "text/plain": [
       "<Figure size 432x288 with 1 Axes>"
      ]
     },
     "metadata": {
      "needs_background": "light"
     },
     "output_type": "display_data"
    }
   ],
   "source": [
    "df['mort_acc'].value_counts().plot(kind = 'bar')"
   ]
  },
  {
   "cell_type": "code",
   "execution_count": 34,
   "metadata": {},
   "outputs": [
    {
     "data": {
      "text/plain": [
       "9.543468929121532"
      ]
     },
     "execution_count": 34,
     "metadata": {},
     "output_type": "execute_result"
    }
   ],
   "source": [
    "#Percentage of missing entries in this feature\n",
    "df['mort_acc'].isnull().sum()/len(df['mort_acc'])*100"
   ]
  },
  {
   "cell_type": "code",
   "execution_count": 35,
   "metadata": {},
   "outputs": [],
   "source": [
    "#Percentage of missinng elements are not so huze, no need to drop off the feature stright away"
   ]
  },
  {
   "cell_type": "code",
   "execution_count": 36,
   "metadata": {},
   "outputs": [
    {
     "data": {
      "text/plain": [
       "int_rate               -0.082583\n",
       "dti                    -0.025439\n",
       "revol_util              0.007514\n",
       "pub_rec                 0.011552\n",
       "pub_rec_bankruptcies    0.027239\n",
       "loan_repaid             0.073111\n",
       "open_acc                0.109205\n",
       "installment             0.193694\n",
       "revol_bal               0.194925\n",
       "loan_amnt               0.222315\n",
       "annual_inc              0.236320\n",
       "total_acc               0.381072\n",
       "mort_acc                1.000000\n",
       "Name: mort_acc, dtype: float64"
      ]
     },
     "execution_count": 36,
     "metadata": {},
     "output_type": "execute_result"
    }
   ],
   "source": [
    "#Check are thre any similar features for number of mortgage accounts\n",
    "#Correlation matrix will tell the similarity in features\n",
    "df.corr()['mort_acc'].sort_values()"
   ]
  },
  {
   "cell_type": "markdown",
   "metadata": {},
   "source": [
    "#### Seems 'total number of accounts'feature (total_acc) is better correlatd to 'number of mortgage accounts' \n",
    " \n",
    "One way to fill the missing values in mort_acc feature is by using total_acc feature values.\n",
    "\n",
    "For the user whose mortgage accounts number is missing, \n",
    "    1. take his total number of accounts\n",
    "    2. take the mean of mortgage accounts for such users(whose total accounts are same as this person)\n",
    "    3. fill the missing entry with the above value"
   ]
  },
  {
   "cell_type": "code",
   "execution_count": 37,
   "metadata": {},
   "outputs": [
    {
     "data": {
      "text/plain": [
       "total_acc\n",
       "2.0      0.000000\n",
       "3.0      0.052023\n",
       "4.0      0.066743\n",
       "5.0      0.103289\n",
       "6.0      0.151293\n",
       "           ...   \n",
       "124.0    1.000000\n",
       "129.0    1.000000\n",
       "135.0    3.000000\n",
       "150.0    2.000000\n",
       "151.0    0.000000\n",
       "Name: mort_acc, Length: 118, dtype: float64"
      ]
     },
     "execution_count": 37,
     "metadata": {},
     "output_type": "execute_result"
    }
   ],
   "source": [
    "#Mean value of mortgage accounts for users based on their toal accounts data\n",
    "mean_mort_acc_count = df.groupby('total_acc').mean()['mort_acc']\n",
    "mean_mort_acc_count"
   ]
  },
  {
   "cell_type": "code",
   "execution_count": 38,
   "metadata": {},
   "outputs": [
    {
     "data": {
      "text/plain": [
       "0.05202312138728324"
      ]
     },
     "execution_count": 38,
     "metadata": {},
     "output_type": "execute_result"
    }
   ],
   "source": [
    "# Creare a function which takes mort_acc entry and total_acc entry and fills the mortgage entry if it is missing\n",
    "\n",
    "'''\n",
    "Accepts the total_acc and mort_acc values for the row.\n",
    "Checks if the mort_acc is NaN , if so, it returns the avg mort_acc value\n",
    "for the corresponding total_acc value for that row.\n",
    "\n",
    "total_acc_avg here should be a Series or dictionary containing the mapping of the\n",
    "groupby averages of mort_acc per total_acc values.\n",
    "'''\n",
    "def fill_mort_acc_missing_entry(mort_acc, total_acc):\n",
    "    if np.isnan(mort_acc):\n",
    "        return mean_mort_acc_count[total_acc]\n",
    "    else:\n",
    "        return mort_acc\n",
    "    \n",
    "fill_mort_acc_missing_entry(np.nan, 3)"
   ]
  },
  {
   "cell_type": "code",
   "execution_count": 39,
   "metadata": {},
   "outputs": [
    {
     "data": {
      "text/plain": [
       "0.05202312138728324"
      ]
     },
     "execution_count": 39,
     "metadata": {},
     "output_type": "execute_result"
    }
   ],
   "source": [
    "mean_mort_acc_count[3]"
   ]
  },
  {
   "cell_type": "code",
   "execution_count": 40,
   "metadata": {},
   "outputs": [],
   "source": [
    "#Fill missing entries of mort_acc using otal_acc information \n",
    "#axis = 1 => one row at a time\n",
    "df['mort_acc'] = df.apply(lambda x : fill_mort_acc_missing_entry(x['mort_acc'], x['total_acc']), axis = 1)"
   ]
  },
  {
   "cell_type": "code",
   "execution_count": 41,
   "metadata": {},
   "outputs": [
    {
     "data": {
      "text/plain": [
       "0"
      ]
     },
     "execution_count": 41,
     "metadata": {},
     "output_type": "execute_result"
    }
   ],
   "source": [
    "df['mort_acc'].isnull().sum()"
   ]
  },
  {
   "cell_type": "markdown",
   "metadata": {},
   "source": [
    "#### Missing entries in feature - revol_util"
   ]
  },
  {
   "cell_type": "code",
   "execution_count": 42,
   "metadata": {},
   "outputs": [
    {
     "data": {
      "text/plain": [
       "0.06969169002348306"
      ]
     },
     "execution_count": 42,
     "metadata": {},
     "output_type": "execute_result"
    }
   ],
   "source": [
    "#See how many entries missing in revol_util feature\n",
    "df['revol_util'].isnull().sum()/len(df['revol_util'].isnull())*100"
   ]
  },
  {
   "cell_type": "code",
   "execution_count": 43,
   "metadata": {},
   "outputs": [],
   "source": [
    "# The missing entries are very small and negligible(~ 0.07%)\n",
    "# It is better to drop the missing entry rows => this affects overall sample set size\n",
    "\n",
    "df.drop(df[df['revol_util'].isnull()].index, axis = 0, inplace = True)"
   ]
  },
  {
   "cell_type": "code",
   "execution_count": 44,
   "metadata": {},
   "outputs": [
    {
     "data": {
      "text/plain": [
       "0"
      ]
     },
     "execution_count": 44,
     "metadata": {},
     "output_type": "execute_result"
    }
   ],
   "source": [
    "df['revol_util'].isnull().sum()"
   ]
  },
  {
   "cell_type": "markdown",
   "metadata": {},
   "source": [
    "#### Missing entries in feature - pub_rec_bankruptcies    "
   ]
  },
  {
   "cell_type": "code",
   "execution_count": 45,
   "metadata": {},
   "outputs": [
    {
     "data": {
      "text/plain": [
       "0.13518498865456824"
      ]
     },
     "execution_count": 45,
     "metadata": {},
     "output_type": "execute_result"
    }
   ],
   "source": [
    "#See how many entries missing in pub_rec_bankruptcies feature\n",
    "df['pub_rec_bankruptcies'].isnull().sum()/len(df['pub_rec_bankruptcies'].isnull())*100"
   ]
  },
  {
   "cell_type": "code",
   "execution_count": 46,
   "metadata": {},
   "outputs": [],
   "source": [
    "# The missing entries are very small and negligible(~ 0.14%)\n",
    "# It is better to drop the missing entry rows => this affects overall sample set size\n",
    "\n",
    "df.drop(df[df['pub_rec_bankruptcies'].isnull()].index, axis = 0, inplace = True)"
   ]
  },
  {
   "cell_type": "code",
   "execution_count": 47,
   "metadata": {},
   "outputs": [
    {
     "data": {
      "text/plain": [
       "0"
      ]
     },
     "execution_count": 47,
     "metadata": {},
     "output_type": "execute_result"
    }
   ],
   "source": [
    "df['pub_rec_bankruptcies'].isnull().sum()"
   ]
  },
  {
   "cell_type": "code",
   "execution_count": 48,
   "metadata": {},
   "outputs": [
    {
     "data": {
      "text/plain": [
       "loan_amnt               0\n",
       "term                    0\n",
       "int_rate                0\n",
       "installment             0\n",
       "grade                   0\n",
       "sub_grade               0\n",
       "home_ownership          0\n",
       "annual_inc              0\n",
       "verification_status     0\n",
       "issue_d                 0\n",
       "loan_status             0\n",
       "purpose                 0\n",
       "dti                     0\n",
       "earliest_cr_line        0\n",
       "open_acc                0\n",
       "pub_rec                 0\n",
       "revol_bal               0\n",
       "revol_util              0\n",
       "total_acc               0\n",
       "initial_list_status     0\n",
       "application_type        0\n",
       "mort_acc                0\n",
       "pub_rec_bankruptcies    0\n",
       "address                 0\n",
       "loan_repaid             0\n",
       "dtype: int64"
      ]
     },
     "execution_count": 48,
     "metadata": {},
     "output_type": "execute_result"
    }
   ],
   "source": [
    "df.isnull().sum()"
   ]
  },
  {
   "cell_type": "markdown",
   "metadata": {},
   "source": [
    "#### Done with missing entry handling"
   ]
  },
  {
   "cell_type": "markdown",
   "metadata": {},
   "source": [
    "# Categorical feature handling"
   ]
  },
  {
   "cell_type": "code",
   "execution_count": 49,
   "metadata": {},
   "outputs": [
    {
     "data": {
      "text/plain": [
       "Index(['loan_amnt', 'term', 'int_rate', 'installment', 'grade', 'sub_grade',\n",
       "       'home_ownership', 'annual_inc', 'verification_status', 'issue_d',\n",
       "       'loan_status', 'purpose', 'dti', 'earliest_cr_line', 'open_acc',\n",
       "       'pub_rec', 'revol_bal', 'revol_util', 'total_acc',\n",
       "       'initial_list_status', 'application_type', 'mort_acc',\n",
       "       'pub_rec_bankruptcies', 'address', 'loan_repaid'],\n",
       "      dtype='object')"
      ]
     },
     "execution_count": 49,
     "metadata": {},
     "output_type": "execute_result"
    }
   ],
   "source": [
    "df.columns"
   ]
  },
  {
   "cell_type": "markdown",
   "metadata": {},
   "source": [
    "#### Display all categorical feature labels"
   ]
  },
  {
   "cell_type": "code",
   "execution_count": 50,
   "metadata": {},
   "outputs": [
    {
     "data": {
      "text/plain": [
       "loan_amnt               float64\n",
       "term                     object\n",
       "int_rate                float64\n",
       "installment             float64\n",
       "grade                    object\n",
       "sub_grade                object\n",
       "home_ownership           object\n",
       "annual_inc              float64\n",
       "verification_status      object\n",
       "issue_d                  object\n",
       "loan_status              object\n",
       "purpose                  object\n",
       "dti                     float64\n",
       "earliest_cr_line         object\n",
       "open_acc                float64\n",
       "pub_rec                 float64\n",
       "revol_bal               float64\n",
       "revol_util              float64\n",
       "total_acc               float64\n",
       "initial_list_status      object\n",
       "application_type         object\n",
       "mort_acc                float64\n",
       "pub_rec_bankruptcies    float64\n",
       "address                  object\n",
       "loan_repaid               int64\n",
       "dtype: object"
      ]
     },
     "execution_count": 50,
     "metadata": {},
     "output_type": "execute_result"
    }
   ],
   "source": [
    "#Display datatypes of features\n",
    "df.dtypes"
   ]
  },
  {
   "cell_type": "code",
   "execution_count": 51,
   "metadata": {},
   "outputs": [
    {
     "data": {
      "text/plain": [
       "Index(['term', 'grade', 'sub_grade', 'home_ownership', 'verification_status',\n",
       "       'issue_d', 'loan_status', 'purpose', 'earliest_cr_line',\n",
       "       'initial_list_status', 'application_type', 'address'],\n",
       "      dtype='object')"
      ]
     },
     "execution_count": 51,
     "metadata": {},
     "output_type": "execute_result"
    }
   ],
   "source": [
    "#Display labels of categorical features (text in the data)\n",
    "df.select_dtypes(include = ['object']).columns"
   ]
  },
  {
   "cell_type": "markdown",
   "metadata": {},
   "source": [
    "####  String feature handling - term \n"
   ]
  },
  {
   "cell_type": "code",
   "execution_count": 52,
   "metadata": {},
   "outputs": [
    {
     "data": {
      "text/plain": [
       " 36 months    301247\n",
       " 60 months     93972\n",
       "Name: term, dtype: int64"
      ]
     },
     "execution_count": 52,
     "metadata": {},
     "output_type": "execute_result"
    }
   ],
   "source": [
    "df['term'].value_counts()"
   ]
  },
  {
   "cell_type": "code",
   "execution_count": 53,
   "metadata": {},
   "outputs": [],
   "source": [
    "#replacing categorical feature string values with extracted numerical values\n",
    "df['term'] = df['term'].map({' 36 months': 36, ' 60 months': 60}) # Note:  In this case text started with single space"
   ]
  },
  {
   "cell_type": "code",
   "execution_count": 54,
   "metadata": {},
   "outputs": [
    {
     "data": {
      "text/plain": [
       "0         36\n",
       "1         36\n",
       "2         36\n",
       "3         36\n",
       "4         60\n",
       "          ..\n",
       "396025    60\n",
       "396026    36\n",
       "396027    36\n",
       "396028    60\n",
       "396029    36\n",
       "Name: term, Length: 395219, dtype: int64"
      ]
     },
     "execution_count": 54,
     "metadata": {},
     "output_type": "execute_result"
    }
   ],
   "source": [
    "df['term']"
   ]
  },
  {
   "cell_type": "markdown",
   "metadata": {},
   "source": [
    "####  String feature handling - grade"
   ]
  },
  {
   "cell_type": "code",
   "execution_count": 55,
   "metadata": {},
   "outputs": [],
   "source": [
    "# We already know that 'grade' is part of 'sub_grade', so drop the grade feature\n",
    "df.drop('grade', axis = 1, inplace = True)"
   ]
  },
  {
   "cell_type": "markdown",
   "metadata": {},
   "source": [
    "####  String feature handling - sub_grade"
   ]
  },
  {
   "cell_type": "code",
   "execution_count": 56,
   "metadata": {
    "scrolled": true
   },
   "outputs": [
    {
     "data": {
      "text/html": [
       "<div>\n",
       "<style scoped>\n",
       "    .dataframe tbody tr th:only-of-type {\n",
       "        vertical-align: middle;\n",
       "    }\n",
       "\n",
       "    .dataframe tbody tr th {\n",
       "        vertical-align: top;\n",
       "    }\n",
       "\n",
       "    .dataframe thead th {\n",
       "        text-align: right;\n",
       "    }\n",
       "</style>\n",
       "<table border=\"1\" class=\"dataframe\">\n",
       "  <thead>\n",
       "    <tr style=\"text-align: right;\">\n",
       "      <th></th>\n",
       "      <th>A2</th>\n",
       "      <th>A3</th>\n",
       "      <th>A4</th>\n",
       "      <th>A5</th>\n",
       "      <th>B1</th>\n",
       "      <th>B2</th>\n",
       "      <th>B3</th>\n",
       "      <th>B4</th>\n",
       "      <th>B5</th>\n",
       "      <th>C1</th>\n",
       "      <th>...</th>\n",
       "      <th>F1</th>\n",
       "      <th>F2</th>\n",
       "      <th>F3</th>\n",
       "      <th>F4</th>\n",
       "      <th>F5</th>\n",
       "      <th>G1</th>\n",
       "      <th>G2</th>\n",
       "      <th>G3</th>\n",
       "      <th>G4</th>\n",
       "      <th>G5</th>\n",
       "    </tr>\n",
       "  </thead>\n",
       "  <tbody>\n",
       "    <tr>\n",
       "      <th>0</th>\n",
       "      <td>0</td>\n",
       "      <td>0</td>\n",
       "      <td>0</td>\n",
       "      <td>0</td>\n",
       "      <td>0</td>\n",
       "      <td>0</td>\n",
       "      <td>0</td>\n",
       "      <td>1</td>\n",
       "      <td>0</td>\n",
       "      <td>0</td>\n",
       "      <td>...</td>\n",
       "      <td>0</td>\n",
       "      <td>0</td>\n",
       "      <td>0</td>\n",
       "      <td>0</td>\n",
       "      <td>0</td>\n",
       "      <td>0</td>\n",
       "      <td>0</td>\n",
       "      <td>0</td>\n",
       "      <td>0</td>\n",
       "      <td>0</td>\n",
       "    </tr>\n",
       "    <tr>\n",
       "      <th>1</th>\n",
       "      <td>0</td>\n",
       "      <td>0</td>\n",
       "      <td>0</td>\n",
       "      <td>0</td>\n",
       "      <td>0</td>\n",
       "      <td>0</td>\n",
       "      <td>0</td>\n",
       "      <td>0</td>\n",
       "      <td>1</td>\n",
       "      <td>0</td>\n",
       "      <td>...</td>\n",
       "      <td>0</td>\n",
       "      <td>0</td>\n",
       "      <td>0</td>\n",
       "      <td>0</td>\n",
       "      <td>0</td>\n",
       "      <td>0</td>\n",
       "      <td>0</td>\n",
       "      <td>0</td>\n",
       "      <td>0</td>\n",
       "      <td>0</td>\n",
       "    </tr>\n",
       "    <tr>\n",
       "      <th>2</th>\n",
       "      <td>0</td>\n",
       "      <td>0</td>\n",
       "      <td>0</td>\n",
       "      <td>0</td>\n",
       "      <td>0</td>\n",
       "      <td>0</td>\n",
       "      <td>1</td>\n",
       "      <td>0</td>\n",
       "      <td>0</td>\n",
       "      <td>0</td>\n",
       "      <td>...</td>\n",
       "      <td>0</td>\n",
       "      <td>0</td>\n",
       "      <td>0</td>\n",
       "      <td>0</td>\n",
       "      <td>0</td>\n",
       "      <td>0</td>\n",
       "      <td>0</td>\n",
       "      <td>0</td>\n",
       "      <td>0</td>\n",
       "      <td>0</td>\n",
       "    </tr>\n",
       "    <tr>\n",
       "      <th>3</th>\n",
       "      <td>1</td>\n",
       "      <td>0</td>\n",
       "      <td>0</td>\n",
       "      <td>0</td>\n",
       "      <td>0</td>\n",
       "      <td>0</td>\n",
       "      <td>0</td>\n",
       "      <td>0</td>\n",
       "      <td>0</td>\n",
       "      <td>0</td>\n",
       "      <td>...</td>\n",
       "      <td>0</td>\n",
       "      <td>0</td>\n",
       "      <td>0</td>\n",
       "      <td>0</td>\n",
       "      <td>0</td>\n",
       "      <td>0</td>\n",
       "      <td>0</td>\n",
       "      <td>0</td>\n",
       "      <td>0</td>\n",
       "      <td>0</td>\n",
       "    </tr>\n",
       "    <tr>\n",
       "      <th>4</th>\n",
       "      <td>0</td>\n",
       "      <td>0</td>\n",
       "      <td>0</td>\n",
       "      <td>0</td>\n",
       "      <td>0</td>\n",
       "      <td>0</td>\n",
       "      <td>0</td>\n",
       "      <td>0</td>\n",
       "      <td>0</td>\n",
       "      <td>0</td>\n",
       "      <td>...</td>\n",
       "      <td>0</td>\n",
       "      <td>0</td>\n",
       "      <td>0</td>\n",
       "      <td>0</td>\n",
       "      <td>0</td>\n",
       "      <td>0</td>\n",
       "      <td>0</td>\n",
       "      <td>0</td>\n",
       "      <td>0</td>\n",
       "      <td>0</td>\n",
       "    </tr>\n",
       "    <tr>\n",
       "      <th>...</th>\n",
       "      <td>...</td>\n",
       "      <td>...</td>\n",
       "      <td>...</td>\n",
       "      <td>...</td>\n",
       "      <td>...</td>\n",
       "      <td>...</td>\n",
       "      <td>...</td>\n",
       "      <td>...</td>\n",
       "      <td>...</td>\n",
       "      <td>...</td>\n",
       "      <td>...</td>\n",
       "      <td>...</td>\n",
       "      <td>...</td>\n",
       "      <td>...</td>\n",
       "      <td>...</td>\n",
       "      <td>...</td>\n",
       "      <td>...</td>\n",
       "      <td>...</td>\n",
       "      <td>...</td>\n",
       "      <td>...</td>\n",
       "      <td>...</td>\n",
       "    </tr>\n",
       "    <tr>\n",
       "      <th>396025</th>\n",
       "      <td>0</td>\n",
       "      <td>0</td>\n",
       "      <td>0</td>\n",
       "      <td>0</td>\n",
       "      <td>0</td>\n",
       "      <td>0</td>\n",
       "      <td>0</td>\n",
       "      <td>1</td>\n",
       "      <td>0</td>\n",
       "      <td>0</td>\n",
       "      <td>...</td>\n",
       "      <td>0</td>\n",
       "      <td>0</td>\n",
       "      <td>0</td>\n",
       "      <td>0</td>\n",
       "      <td>0</td>\n",
       "      <td>0</td>\n",
       "      <td>0</td>\n",
       "      <td>0</td>\n",
       "      <td>0</td>\n",
       "      <td>0</td>\n",
       "    </tr>\n",
       "    <tr>\n",
       "      <th>396026</th>\n",
       "      <td>0</td>\n",
       "      <td>0</td>\n",
       "      <td>0</td>\n",
       "      <td>0</td>\n",
       "      <td>0</td>\n",
       "      <td>0</td>\n",
       "      <td>0</td>\n",
       "      <td>0</td>\n",
       "      <td>0</td>\n",
       "      <td>1</td>\n",
       "      <td>...</td>\n",
       "      <td>0</td>\n",
       "      <td>0</td>\n",
       "      <td>0</td>\n",
       "      <td>0</td>\n",
       "      <td>0</td>\n",
       "      <td>0</td>\n",
       "      <td>0</td>\n",
       "      <td>0</td>\n",
       "      <td>0</td>\n",
       "      <td>0</td>\n",
       "    </tr>\n",
       "    <tr>\n",
       "      <th>396027</th>\n",
       "      <td>0</td>\n",
       "      <td>0</td>\n",
       "      <td>0</td>\n",
       "      <td>0</td>\n",
       "      <td>1</td>\n",
       "      <td>0</td>\n",
       "      <td>0</td>\n",
       "      <td>0</td>\n",
       "      <td>0</td>\n",
       "      <td>0</td>\n",
       "      <td>...</td>\n",
       "      <td>0</td>\n",
       "      <td>0</td>\n",
       "      <td>0</td>\n",
       "      <td>0</td>\n",
       "      <td>0</td>\n",
       "      <td>0</td>\n",
       "      <td>0</td>\n",
       "      <td>0</td>\n",
       "      <td>0</td>\n",
       "      <td>0</td>\n",
       "    </tr>\n",
       "    <tr>\n",
       "      <th>396028</th>\n",
       "      <td>0</td>\n",
       "      <td>0</td>\n",
       "      <td>0</td>\n",
       "      <td>0</td>\n",
       "      <td>0</td>\n",
       "      <td>0</td>\n",
       "      <td>0</td>\n",
       "      <td>0</td>\n",
       "      <td>0</td>\n",
       "      <td>0</td>\n",
       "      <td>...</td>\n",
       "      <td>0</td>\n",
       "      <td>0</td>\n",
       "      <td>0</td>\n",
       "      <td>0</td>\n",
       "      <td>0</td>\n",
       "      <td>0</td>\n",
       "      <td>0</td>\n",
       "      <td>0</td>\n",
       "      <td>0</td>\n",
       "      <td>0</td>\n",
       "    </tr>\n",
       "    <tr>\n",
       "      <th>396029</th>\n",
       "      <td>0</td>\n",
       "      <td>0</td>\n",
       "      <td>0</td>\n",
       "      <td>0</td>\n",
       "      <td>0</td>\n",
       "      <td>0</td>\n",
       "      <td>0</td>\n",
       "      <td>0</td>\n",
       "      <td>0</td>\n",
       "      <td>0</td>\n",
       "      <td>...</td>\n",
       "      <td>0</td>\n",
       "      <td>0</td>\n",
       "      <td>0</td>\n",
       "      <td>0</td>\n",
       "      <td>0</td>\n",
       "      <td>0</td>\n",
       "      <td>0</td>\n",
       "      <td>0</td>\n",
       "      <td>0</td>\n",
       "      <td>0</td>\n",
       "    </tr>\n",
       "  </tbody>\n",
       "</table>\n",
       "<p>395219 rows × 34 columns</p>\n",
       "</div>"
      ],
      "text/plain": [
       "        A2  A3  A4  A5  B1  B2  B3  B4  B5  C1  ...  F1  F2  F3  F4  F5  G1  \\\n",
       "0        0   0   0   0   0   0   0   1   0   0  ...   0   0   0   0   0   0   \n",
       "1        0   0   0   0   0   0   0   0   1   0  ...   0   0   0   0   0   0   \n",
       "2        0   0   0   0   0   0   1   0   0   0  ...   0   0   0   0   0   0   \n",
       "3        1   0   0   0   0   0   0   0   0   0  ...   0   0   0   0   0   0   \n",
       "4        0   0   0   0   0   0   0   0   0   0  ...   0   0   0   0   0   0   \n",
       "...     ..  ..  ..  ..  ..  ..  ..  ..  ..  ..  ...  ..  ..  ..  ..  ..  ..   \n",
       "396025   0   0   0   0   0   0   0   1   0   0  ...   0   0   0   0   0   0   \n",
       "396026   0   0   0   0   0   0   0   0   0   1  ...   0   0   0   0   0   0   \n",
       "396027   0   0   0   0   1   0   0   0   0   0  ...   0   0   0   0   0   0   \n",
       "396028   0   0   0   0   0   0   0   0   0   0  ...   0   0   0   0   0   0   \n",
       "396029   0   0   0   0   0   0   0   0   0   0  ...   0   0   0   0   0   0   \n",
       "\n",
       "        G2  G3  G4  G5  \n",
       "0        0   0   0   0  \n",
       "1        0   0   0   0  \n",
       "2        0   0   0   0  \n",
       "3        0   0   0   0  \n",
       "4        0   0   0   0  \n",
       "...     ..  ..  ..  ..  \n",
       "396025   0   0   0   0  \n",
       "396026   0   0   0   0  \n",
       "396027   0   0   0   0  \n",
       "396028   0   0   0   0  \n",
       "396029   0   0   0   0  \n",
       "\n",
       "[395219 rows x 34 columns]"
      ]
     },
     "execution_count": 56,
     "metadata": {},
     "output_type": "execute_result"
    }
   ],
   "source": [
    "#one-hot encoding for categorical features\n",
    "#drop first(any one) dummy category since this can be dervied from other dummy features\n",
    "new_df = pd.get_dummies(df['sub_grade'], drop_first = True)\n",
    "new_df"
   ]
  },
  {
   "cell_type": "code",
   "execution_count": 57,
   "metadata": {},
   "outputs": [
    {
     "data": {
      "text/plain": [
       "Index(['loan_amnt', 'term', 'int_rate', 'installment', 'home_ownership',\n",
       "       'annual_inc', 'verification_status', 'issue_d', 'loan_status',\n",
       "       'purpose', 'dti', 'earliest_cr_line', 'open_acc', 'pub_rec',\n",
       "       'revol_bal', 'revol_util', 'total_acc', 'initial_list_status',\n",
       "       'application_type', 'mort_acc', 'pub_rec_bankruptcies', 'address',\n",
       "       'loan_repaid', 'A2', 'A3', 'A4', 'A5', 'B1', 'B2', 'B3', 'B4', 'B5',\n",
       "       'C1', 'C2', 'C3', 'C4', 'C5', 'D1', 'D2', 'D3', 'D4', 'D5', 'E1', 'E2',\n",
       "       'E3', 'E4', 'E5', 'F1', 'F2', 'F3', 'F4', 'F5', 'G1', 'G2', 'G3', 'G4',\n",
       "       'G5'],\n",
       "      dtype='object')"
      ]
     },
     "execution_count": 57,
     "metadata": {},
     "output_type": "execute_result"
    }
   ],
   "source": [
    "#concatenate newly created dummy features\n",
    "df = pd.concat([df, new_df], axis = 1)\n",
    "df.drop('sub_grade', axis = 1, inplace = True)\n",
    "df.columns"
   ]
  },
  {
   "cell_type": "markdown",
   "metadata": {},
   "source": [
    "####  String feature handling - home_ownership "
   ]
  },
  {
   "cell_type": "code",
   "execution_count": 58,
   "metadata": {},
   "outputs": [
    {
     "data": {
      "text/plain": [
       "MORTGAGE    198022\n",
       "RENT        159395\n",
       "OWN          37660\n",
       "OTHER          110\n",
       "NONE            29\n",
       "ANY              3\n",
       "Name: home_ownership, dtype: int64"
      ]
     },
     "execution_count": 58,
     "metadata": {},
     "output_type": "execute_result"
    }
   ],
   "source": [
    "df['home_ownership'].value_counts()"
   ]
  },
  {
   "cell_type": "code",
   "execution_count": 59,
   "metadata": {},
   "outputs": [
    {
     "data": {
      "text/plain": [
       "MORTGAGE    198022\n",
       "RENT        159395\n",
       "OWN          37660\n",
       "OTHER          142\n",
       "Name: home_ownership, dtype: int64"
      ]
     },
     "execution_count": 59,
     "metadata": {},
     "output_type": "execute_result"
    }
   ],
   "source": [
    "#Here some categories can be merged : NONE and ANY to OTHER since data set is very small for NONE, ANY category\n",
    "df['home_ownership'].replace(['NONE', 'ANY'], 'OTHER', inplace = True)\n",
    "df['home_ownership'].value_counts()"
   ]
  },
  {
   "cell_type": "code",
   "execution_count": 60,
   "metadata": {},
   "outputs": [
    {
     "data": {
      "text/plain": [
       "Index(['loan_amnt', 'term', 'int_rate', 'installment', 'annual_inc',\n",
       "       'verification_status', 'issue_d', 'loan_status', 'purpose', 'dti',\n",
       "       'earliest_cr_line', 'open_acc', 'pub_rec', 'revol_bal', 'revol_util',\n",
       "       'total_acc', 'initial_list_status', 'application_type', 'mort_acc',\n",
       "       'pub_rec_bankruptcies', 'address', 'loan_repaid', 'A2', 'A3', 'A4',\n",
       "       'A5', 'B1', 'B2', 'B3', 'B4', 'B5', 'C1', 'C2', 'C3', 'C4', 'C5', 'D1',\n",
       "       'D2', 'D3', 'D4', 'D5', 'E1', 'E2', 'E3', 'E4', 'E5', 'F1', 'F2', 'F3',\n",
       "       'F4', 'F5', 'G1', 'G2', 'G3', 'G4', 'G5', 'OTHER', 'OWN', 'RENT'],\n",
       "      dtype='object')"
      ]
     },
     "execution_count": 60,
     "metadata": {},
     "output_type": "execute_result"
    }
   ],
   "source": [
    "#convert categorical features in to dummy features\n",
    "#drop first(any one) dummy category since this can be dervied from other dummy features\n",
    "dummy_df = pd.get_dummies(df['home_ownership'], drop_first = True)\n",
    "df = pd.concat([df.drop('home_ownership', axis = 1), dummy_df], axis = 1)\n",
    "df.columns"
   ]
  },
  {
   "cell_type": "markdown",
   "metadata": {},
   "source": [
    "####  String feature handling - verification_status "
   ]
  },
  {
   "cell_type": "code",
   "execution_count": 61,
   "metadata": {},
   "outputs": [
    {
     "data": {
      "text/plain": [
       "Verified           139451\n",
       "Source Verified    131301\n",
       "Not Verified       124467\n",
       "Name: verification_status, dtype: int64"
      ]
     },
     "execution_count": 61,
     "metadata": {},
     "output_type": "execute_result"
    }
   ],
   "source": [
    "df['verification_status'].value_counts()"
   ]
  },
  {
   "cell_type": "markdown",
   "metadata": {},
   "source": [
    "####  String feature handling - purpose "
   ]
  },
  {
   "cell_type": "code",
   "execution_count": 62,
   "metadata": {},
   "outputs": [
    {
     "data": {
      "text/plain": [
       "debt_consolidation    234169\n",
       "credit_card            82923\n",
       "home_improvement       23961\n",
       "other                  21059\n",
       "major_purchase          8756\n",
       "small_business          5656\n",
       "car                     4670\n",
       "medical                 4175\n",
       "moving                  2842\n",
       "vacation                2442\n",
       "house                   2197\n",
       "wedding                 1794\n",
       "renewable_energy         329\n",
       "educational              246\n",
       "Name: purpose, dtype: int64"
      ]
     },
     "execution_count": 62,
     "metadata": {},
     "output_type": "execute_result"
    }
   ],
   "source": [
    "df['purpose'].value_counts()"
   ]
  },
  {
   "cell_type": "markdown",
   "metadata": {},
   "source": [
    "####  String feature handling - initial_list_status "
   ]
  },
  {
   "cell_type": "code",
   "execution_count": 63,
   "metadata": {},
   "outputs": [
    {
     "data": {
      "text/plain": [
       "f    237346\n",
       "w    157873\n",
       "Name: initial_list_status, dtype: int64"
      ]
     },
     "execution_count": 63,
     "metadata": {},
     "output_type": "execute_result"
    }
   ],
   "source": [
    "df['initial_list_status'].value_counts()"
   ]
  },
  {
   "cell_type": "markdown",
   "metadata": {},
   "source": [
    "####  String feature handling - application_type "
   ]
  },
  {
   "cell_type": "code",
   "execution_count": 64,
   "metadata": {},
   "outputs": [
    {
     "data": {
      "text/plain": [
       "INDIVIDUAL    394508\n",
       "JOINT            425\n",
       "DIRECT_PAY       286\n",
       "Name: application_type, dtype: int64"
      ]
     },
     "execution_count": 64,
     "metadata": {},
     "output_type": "execute_result"
    }
   ],
   "source": [
    "df['application_type'].value_counts()"
   ]
  },
  {
   "cell_type": "markdown",
   "metadata": {},
   "source": [
    "#### These features are categorical data that can be directly converted in to one-hot encoding\n",
    "    verification_status, purpose, initial_list_status, application_type"
   ]
  },
  {
   "cell_type": "code",
   "execution_count": 65,
   "metadata": {},
   "outputs": [
    {
     "data": {
      "text/plain": [
       "Index(['loan_amnt', 'term', 'int_rate', 'installment', 'annual_inc', 'issue_d',\n",
       "       'loan_status', 'dti', 'earliest_cr_line', 'open_acc', 'pub_rec',\n",
       "       'revol_bal', 'revol_util', 'total_acc', 'mort_acc',\n",
       "       'pub_rec_bankruptcies', 'address', 'loan_repaid', 'A2', 'A3', 'A4',\n",
       "       'A5', 'B1', 'B2', 'B3', 'B4', 'B5', 'C1', 'C2', 'C3', 'C4', 'C5', 'D1',\n",
       "       'D2', 'D3', 'D4', 'D5', 'E1', 'E2', 'E3', 'E4', 'E5', 'F1', 'F2', 'F3',\n",
       "       'F4', 'F5', 'G1', 'G2', 'G3', 'G4', 'G5', 'OTHER', 'OWN', 'RENT',\n",
       "       'verification_status_Source Verified', 'verification_status_Verified',\n",
       "       'purpose_credit_card', 'purpose_debt_consolidation',\n",
       "       'purpose_educational', 'purpose_home_improvement', 'purpose_house',\n",
       "       'purpose_major_purchase', 'purpose_medical', 'purpose_moving',\n",
       "       'purpose_other', 'purpose_renewable_energy', 'purpose_small_business',\n",
       "       'purpose_vacation', 'purpose_wedding', 'initial_list_status_w',\n",
       "       'application_type_INDIVIDUAL', 'application_type_JOINT'],\n",
       "      dtype='object')"
      ]
     },
     "execution_count": 65,
     "metadata": {},
     "output_type": "execute_result"
    }
   ],
   "source": [
    "#one-hot encoding\n",
    "#convert categorical features in to dummy features\n",
    "#drop first(any one) dummy category since this can be dervied from other dummy features\n",
    "dummy_df = pd.get_dummies(df[['verification_status', 'purpose', 'initial_list_status', 'application_type']], drop_first = True)\n",
    "df.drop(['verification_status', 'purpose', 'initial_list_status', 'application_type'], axis = 1, inplace = True)\n",
    "df = pd.concat([df, dummy_df], axis = 1)\n",
    "df.columns"
   ]
  },
  {
   "cell_type": "markdown",
   "metadata": {},
   "source": [
    "####  String feature handling - issue_d "
   ]
  },
  {
   "cell_type": "code",
   "execution_count": 66,
   "metadata": {},
   "outputs": [
    {
     "data": {
      "text/plain": [
       "Oct-2014    14838\n",
       "Jul-2014    12597\n",
       "Jan-2015    11701\n",
       "Dec-2013    10609\n",
       "Nov-2013    10492\n",
       "            ...  \n",
       "Jan-2008        3\n",
       "Dec-2007        2\n",
       "Aug-2007        1\n",
       "Nov-2007        1\n",
       "Oct-2007        1\n",
       "Name: issue_d, Length: 112, dtype: int64"
      ]
     },
     "execution_count": 66,
     "metadata": {},
     "output_type": "execute_result"
    }
   ],
   "source": [
    "df['issue_d'].value_counts()"
   ]
  },
  {
   "cell_type": "markdown",
   "metadata": {},
   "source": [
    "**TASK: This would be data leakage, we wouldn't know beforehand whether or not a loan would be issued when using our model, so in theory we wouldn't have an issue_date, drop this feature.**"
   ]
  },
  {
   "cell_type": "code",
   "execution_count": 67,
   "metadata": {},
   "outputs": [],
   "source": [
    "df.drop('issue_d', axis = 1, inplace = True)"
   ]
  },
  {
   "cell_type": "markdown",
   "metadata": {},
   "source": [
    "####  String feature handling - earliest_cr_line "
   ]
  },
  {
   "cell_type": "code",
   "execution_count": 68,
   "metadata": {},
   "outputs": [
    {
     "data": {
      "text/plain": [
       "Oct-2000    3013\n",
       "Aug-2000    2930\n",
       "Oct-2001    2890\n",
       "Aug-2001    2879\n",
       "Nov-2000    2729\n",
       "            ... \n",
       "Feb-1962       1\n",
       "Aug-1962       1\n",
       "Dec-1959       1\n",
       "Nov-1955       1\n",
       "May-1955       1\n",
       "Name: earliest_cr_line, Length: 684, dtype: int64"
      ]
     },
     "execution_count": 68,
     "metadata": {},
     "output_type": "execute_result"
    }
   ],
   "source": [
    "df['earliest_cr_line'].value_counts()"
   ]
  },
  {
   "cell_type": "code",
   "execution_count": 69,
   "metadata": {},
   "outputs": [],
   "source": [
    "#processing date time features \n",
    "# takign only year feature from the date time string. Month can also be taken as new feature\n",
    "df['earliest_cr_line'] = pd.to_datetime(df['earliest_cr_line'])\n",
    "df['earliest_cr_year'] =  df['earliest_cr_line'].apply(lambda date : date.year)\n",
    "\n",
    "#deleting data time original fetatures as newly derived features have all the information\n",
    "df.drop('earliest_cr_line', axis = 1, inplace = True)"
   ]
  },
  {
   "cell_type": "markdown",
   "metadata": {},
   "source": [
    "####  String feature handling - address "
   ]
  },
  {
   "cell_type": "code",
   "execution_count": 70,
   "metadata": {},
   "outputs": [
    {
     "data": {
      "text/plain": [
       "USNS Johnson\\r\\nFPO AE 05113                              8\n",
       "USS Johnson\\r\\nFPO AE 48052                               8\n",
       "USS Smith\\r\\nFPO AP 70466                                 8\n",
       "USCGC Smith\\r\\nFPO AE 70466                               8\n",
       "USNS Johnson\\r\\nFPO AP 48052                              7\n",
       "                                                         ..\n",
       "48175 Mcdaniel Rue\\r\\nPort Kylieside, MA 00813            1\n",
       "USNV Perez\\r\\nFPO AE 00813                                1\n",
       "30845 Julie Port Apt. 356\\r\\nAshleyfort, VT 22690         1\n",
       "8561 Johnson Creek\\r\\nKathyberg, ND 00813                 1\n",
       "87259 Michael Avenue Suite 660\\r\\nGeorgeland, SC 22690    1\n",
       "Name: address, Length: 392898, dtype: int64"
      ]
     },
     "execution_count": 70,
     "metadata": {},
     "output_type": "execute_result"
    }
   ],
   "source": [
    "df['address'].value_counts()"
   ]
  },
  {
   "cell_type": "code",
   "execution_count": 71,
   "metadata": {},
   "outputs": [],
   "source": [
    "#from address string, xip code can be extracted and can be used as categorical feature\n",
    "df['zipcode'] = df['address'].apply(lambda add : add[-5:])"
   ]
  },
  {
   "cell_type": "code",
   "execution_count": 72,
   "metadata": {},
   "outputs": [],
   "source": [
    "#converting zipcode string in to one-hot encoding dumy features\n",
    "dummy_df = pd.get_dummies(df['zipcode'], drop_first = True)\n",
    "df = pd.concat([df.drop(['zipcode', 'address'], axis = 1), dummy_df], axis = 1)"
   ]
  },
  {
   "cell_type": "markdown",
   "metadata": {},
   "source": [
    "####  String feature handling - loan_status "
   ]
  },
  {
   "cell_type": "code",
   "execution_count": 73,
   "metadata": {},
   "outputs": [],
   "source": [
    "#It is a duplicate feature as loan_repaid feture contains the same information in number values(0/1)"
   ]
  },
  {
   "cell_type": "code",
   "execution_count": 74,
   "metadata": {},
   "outputs": [],
   "source": [
    "df.drop('loan_status', axis = 1, inplace = True)"
   ]
  },
  {
   "cell_type": "code",
   "execution_count": 75,
   "metadata": {},
   "outputs": [
    {
     "data": {
      "text/plain": [
       "0"
      ]
     },
     "execution_count": 75,
     "metadata": {},
     "output_type": "execute_result"
    }
   ],
   "source": [
    "#check whether all the categorical features are processed or not\n",
    "len(df.select_dtypes(include = ['object']).columns)"
   ]
  },
  {
   "cell_type": "markdown",
   "metadata": {},
   "source": [
    "#### Done with categorical feature analysis"
   ]
  },
  {
   "cell_type": "markdown",
   "metadata": {},
   "source": [
    "#### Final check for the data"
   ]
  },
  {
   "cell_type": "code",
   "execution_count": 76,
   "metadata": {},
   "outputs": [
    {
     "data": {
      "text/plain": [
       "(395219, 79)"
      ]
     },
     "execution_count": 76,
     "metadata": {},
     "output_type": "execute_result"
    }
   ],
   "source": [
    "#Data size\n",
    "df.shape"
   ]
  },
  {
   "cell_type": "code",
   "execution_count": 77,
   "metadata": {},
   "outputs": [
    {
     "data": {
      "text/plain": [
       "Index([], dtype='object')"
      ]
     },
     "execution_count": 77,
     "metadata": {},
     "output_type": "execute_result"
    }
   ],
   "source": [
    "#Check if there are any categorical features left\n",
    "df.select_dtypes(include = ['object']).columns"
   ]
  },
  {
   "cell_type": "markdown",
   "metadata": {},
   "source": [
    "## Train test data split"
   ]
  },
  {
   "cell_type": "code",
   "execution_count": 78,
   "metadata": {},
   "outputs": [],
   "source": [
    "from sklearn.model_selection import train_test_split "
   ]
  },
  {
   "cell_type": "code",
   "execution_count": 81,
   "metadata": {},
   "outputs": [
    {
     "data": {
      "text/html": [
       "<div>\n",
       "<style scoped>\n",
       "    .dataframe tbody tr th:only-of-type {\n",
       "        vertical-align: middle;\n",
       "    }\n",
       "\n",
       "    .dataframe tbody tr th {\n",
       "        vertical-align: top;\n",
       "    }\n",
       "\n",
       "    .dataframe thead th {\n",
       "        text-align: right;\n",
       "    }\n",
       "</style>\n",
       "<table border=\"1\" class=\"dataframe\">\n",
       "  <thead>\n",
       "    <tr style=\"text-align: right;\">\n",
       "      <th></th>\n",
       "      <th>loan_amnt</th>\n",
       "      <th>term</th>\n",
       "      <th>int_rate</th>\n",
       "      <th>installment</th>\n",
       "      <th>annual_inc</th>\n",
       "      <th>dti</th>\n",
       "      <th>open_acc</th>\n",
       "      <th>pub_rec</th>\n",
       "      <th>revol_bal</th>\n",
       "      <th>revol_util</th>\n",
       "      <th>...</th>\n",
       "      <th>earliest_cr_year</th>\n",
       "      <th>05113</th>\n",
       "      <th>11650</th>\n",
       "      <th>22690</th>\n",
       "      <th>29597</th>\n",
       "      <th>30723</th>\n",
       "      <th>48052</th>\n",
       "      <th>70466</th>\n",
       "      <th>86630</th>\n",
       "      <th>93700</th>\n",
       "    </tr>\n",
       "  </thead>\n",
       "  <tbody>\n",
       "    <tr>\n",
       "      <th>0</th>\n",
       "      <td>10000.0</td>\n",
       "      <td>36</td>\n",
       "      <td>11.44</td>\n",
       "      <td>329.48</td>\n",
       "      <td>117000.0</td>\n",
       "      <td>26.24</td>\n",
       "      <td>16.0</td>\n",
       "      <td>0.0</td>\n",
       "      <td>36369.0</td>\n",
       "      <td>41.8</td>\n",
       "      <td>...</td>\n",
       "      <td>1990</td>\n",
       "      <td>0</td>\n",
       "      <td>0</td>\n",
       "      <td>1</td>\n",
       "      <td>0</td>\n",
       "      <td>0</td>\n",
       "      <td>0</td>\n",
       "      <td>0</td>\n",
       "      <td>0</td>\n",
       "      <td>0</td>\n",
       "    </tr>\n",
       "    <tr>\n",
       "      <th>1</th>\n",
       "      <td>8000.0</td>\n",
       "      <td>36</td>\n",
       "      <td>11.99</td>\n",
       "      <td>265.68</td>\n",
       "      <td>65000.0</td>\n",
       "      <td>22.05</td>\n",
       "      <td>17.0</td>\n",
       "      <td>0.0</td>\n",
       "      <td>20131.0</td>\n",
       "      <td>53.3</td>\n",
       "      <td>...</td>\n",
       "      <td>2004</td>\n",
       "      <td>1</td>\n",
       "      <td>0</td>\n",
       "      <td>0</td>\n",
       "      <td>0</td>\n",
       "      <td>0</td>\n",
       "      <td>0</td>\n",
       "      <td>0</td>\n",
       "      <td>0</td>\n",
       "      <td>0</td>\n",
       "    </tr>\n",
       "    <tr>\n",
       "      <th>2</th>\n",
       "      <td>15600.0</td>\n",
       "      <td>36</td>\n",
       "      <td>10.49</td>\n",
       "      <td>506.97</td>\n",
       "      <td>43057.0</td>\n",
       "      <td>12.79</td>\n",
       "      <td>13.0</td>\n",
       "      <td>0.0</td>\n",
       "      <td>11987.0</td>\n",
       "      <td>92.2</td>\n",
       "      <td>...</td>\n",
       "      <td>2007</td>\n",
       "      <td>1</td>\n",
       "      <td>0</td>\n",
       "      <td>0</td>\n",
       "      <td>0</td>\n",
       "      <td>0</td>\n",
       "      <td>0</td>\n",
       "      <td>0</td>\n",
       "      <td>0</td>\n",
       "      <td>0</td>\n",
       "    </tr>\n",
       "    <tr>\n",
       "      <th>3</th>\n",
       "      <td>7200.0</td>\n",
       "      <td>36</td>\n",
       "      <td>6.49</td>\n",
       "      <td>220.65</td>\n",
       "      <td>54000.0</td>\n",
       "      <td>2.60</td>\n",
       "      <td>6.0</td>\n",
       "      <td>0.0</td>\n",
       "      <td>5472.0</td>\n",
       "      <td>21.5</td>\n",
       "      <td>...</td>\n",
       "      <td>2006</td>\n",
       "      <td>0</td>\n",
       "      <td>0</td>\n",
       "      <td>0</td>\n",
       "      <td>0</td>\n",
       "      <td>0</td>\n",
       "      <td>0</td>\n",
       "      <td>0</td>\n",
       "      <td>0</td>\n",
       "      <td>0</td>\n",
       "    </tr>\n",
       "    <tr>\n",
       "      <th>4</th>\n",
       "      <td>24375.0</td>\n",
       "      <td>60</td>\n",
       "      <td>17.27</td>\n",
       "      <td>609.33</td>\n",
       "      <td>55000.0</td>\n",
       "      <td>33.95</td>\n",
       "      <td>13.0</td>\n",
       "      <td>0.0</td>\n",
       "      <td>24584.0</td>\n",
       "      <td>69.8</td>\n",
       "      <td>...</td>\n",
       "      <td>1999</td>\n",
       "      <td>0</td>\n",
       "      <td>1</td>\n",
       "      <td>0</td>\n",
       "      <td>0</td>\n",
       "      <td>0</td>\n",
       "      <td>0</td>\n",
       "      <td>0</td>\n",
       "      <td>0</td>\n",
       "      <td>0</td>\n",
       "    </tr>\n",
       "  </tbody>\n",
       "</table>\n",
       "<p>5 rows × 79 columns</p>\n",
       "</div>"
      ],
      "text/plain": [
       "   loan_amnt  term  int_rate  installment  annual_inc    dti  open_acc  \\\n",
       "0    10000.0    36     11.44       329.48    117000.0  26.24      16.0   \n",
       "1     8000.0    36     11.99       265.68     65000.0  22.05      17.0   \n",
       "2    15600.0    36     10.49       506.97     43057.0  12.79      13.0   \n",
       "3     7200.0    36      6.49       220.65     54000.0   2.60       6.0   \n",
       "4    24375.0    60     17.27       609.33     55000.0  33.95      13.0   \n",
       "\n",
       "   pub_rec  revol_bal  revol_util  ...  earliest_cr_year  05113  11650  22690  \\\n",
       "0      0.0    36369.0        41.8  ...              1990      0      0      1   \n",
       "1      0.0    20131.0        53.3  ...              2004      1      0      0   \n",
       "2      0.0    11987.0        92.2  ...              2007      1      0      0   \n",
       "3      0.0     5472.0        21.5  ...              2006      0      0      0   \n",
       "4      0.0    24584.0        69.8  ...              1999      0      1      0   \n",
       "\n",
       "   29597  30723  48052  70466  86630  93700  \n",
       "0      0      0      0      0      0      0  \n",
       "1      0      0      0      0      0      0  \n",
       "2      0      0      0      0      0      0  \n",
       "3      0      0      0      0      0      0  \n",
       "4      0      0      0      0      0      0  \n",
       "\n",
       "[5 rows x 79 columns]"
      ]
     },
     "execution_count": 81,
     "metadata": {},
     "output_type": "execute_result"
    }
   ],
   "source": [
    "df.head()"
   ]
  },
  {
   "cell_type": "code",
   "execution_count": 82,
   "metadata": {},
   "outputs": [],
   "source": [
    "X = df.drop('loan_repaid', axis = 1).values\n",
    "y = df['loan_repaid'].values"
   ]
  },
  {
   "cell_type": "code",
   "execution_count": 96,
   "metadata": {},
   "outputs": [
    {
     "data": {
      "text/plain": [
       "(395219, 78)"
      ]
     },
     "execution_count": 96,
     "metadata": {},
     "output_type": "execute_result"
    }
   ],
   "source": [
    "X.shape"
   ]
  },
  {
   "cell_type": "code",
   "execution_count": 94,
   "metadata": {},
   "outputs": [],
   "source": [
    "X_train, X_test, y_train, y_test = train_test_split(X, y, test_size = 0.2, random_state = 101 )"
   ]
  },
  {
   "cell_type": "code",
   "execution_count": 97,
   "metadata": {},
   "outputs": [],
   "source": [
    "#Scale features\n",
    "from sklearn.preprocessing import MinMaxScaler\n",
    "scaler = MinMaxScaler()\n",
    "X_train = scaler.fit_transform(X_train)\n",
    "X_test = scaler.transform(X_test)"
   ]
  },
  {
   "cell_type": "markdown",
   "metadata": {},
   "source": [
    "## Train model"
   ]
  },
  {
   "cell_type": "code",
   "execution_count": 99,
   "metadata": {},
   "outputs": [],
   "source": [
    "from tensorflow.keras.models import Sequential\n",
    "from tensorflow.keras.layers import Dense, Dropout\n",
    "\n",
    "# Layers : 78(i/p) -> 39 -> 19 -> 1(0/p)\n",
    "\n",
    "model = Sequential()\n",
    "#input layer - with units size as no.of features\n",
    "model.add(Dense(78, activation = 'relu'))\n",
    "model.add(Dropout(rate = 0.2))\n",
    "\n",
    "#hidden layer 1 \n",
    "model.add(Dense(39, activation = 'relu'))\n",
    "model.add(Dropout(rate = 0.2))\n",
    "\n",
    "#hidden layer 2\n",
    "model.add(Dense(19, activation = 'relu'))\n",
    "model.add(Dropout(rate = 0.2))\n",
    "\n",
    "#output layer\n",
    "model.add(Dense(1, activation = 'sigmoid'))\n",
    "\n",
    "model.compile(optimizer = 'adam', loss = 'binary_crossentropy')\n"
   ]
  },
  {
   "cell_type": "markdown",
   "metadata": {},
   "source": [
    "#### Training logistic regression/ classification model : with early stop"
   ]
  },
  {
   "cell_type": "code",
   "execution_count": 101,
   "metadata": {},
   "outputs": [
    {
     "name": "stdout",
     "output_type": "stream",
     "text": [
      "Train on 316175 samples, validate on 79044 samples\n",
      "Epoch 1/100\n",
      "316175/316175 [==============================] - 10s 33us/sample - loss: 0.3000 - val_loss: 0.2646\n",
      "Epoch 2/100\n",
      "316175/316175 [==============================] - 6s 20us/sample - loss: 0.2655 - val_loss: 0.2628\n",
      "Epoch 3/100\n",
      "316175/316175 [==============================] - 6s 19us/sample - loss: 0.2629 - val_loss: 0.2622\n",
      "Epoch 4/100\n",
      "316175/316175 [==============================] - 7s 21us/sample - loss: 0.2618 - val_loss: 0.2627\n",
      "Epoch 5/100\n",
      "316175/316175 [==============================] - 6s 20us/sample - loss: 0.2609 - val_loss: 0.2619\n",
      "Epoch 6/100\n",
      "316175/316175 [==============================] - 6s 19us/sample - loss: 0.2598 - val_loss: 0.2619\n",
      "Epoch 7/100\n",
      "316175/316175 [==============================] - 7s 22us/sample - loss: 0.2600 - val_loss: 0.2614\n",
      "Epoch 8/100\n",
      "316175/316175 [==============================] - 7s 23us/sample - loss: 0.2595 - val_loss: 0.2624\n",
      "Epoch 9/100\n",
      "316175/316175 [==============================] - 7s 22us/sample - loss: 0.2595 - val_loss: 0.2613\n",
      "Epoch 10/100\n",
      "316175/316175 [==============================] - 7s 22us/sample - loss: 0.2590 - val_loss: 0.2617\n",
      "Epoch 11/100\n",
      "316175/316175 [==============================] - 6s 20us/sample - loss: 0.2590 - val_loss: 0.2609\n",
      "Epoch 12/100\n",
      "316175/316175 [==============================] - 6s 19us/sample - loss: 0.2585 - val_loss: 0.2611\n",
      "Epoch 13/100\n",
      "316175/316175 [==============================] - 6s 20us/sample - loss: 0.2582 - val_loss: 0.2610\n",
      "Epoch 14/100\n",
      "316175/316175 [==============================] - 6s 19us/sample - loss: 0.2581 - val_loss: 0.2618\n",
      "Epoch 15/100\n",
      "316175/316175 [==============================] - 6s 20us/sample - loss: 0.2578 - val_loss: 0.2612\n",
      "Epoch 16/100\n",
      "316175/316175 [==============================] - 7s 22us/sample - loss: 0.2575 - val_loss: 0.2614\n",
      "Epoch 17/100\n",
      "316175/316175 [==============================] - 7s 22us/sample - loss: 0.2575 - val_loss: 0.2618\n",
      "Epoch 18/100\n",
      "316175/316175 [==============================] - 7s 22us/sample - loss: 0.2572 - val_loss: 0.2611\n",
      "Epoch 19/100\n",
      "316175/316175 [==============================] - 8s 24us/sample - loss: 0.2570 - val_loss: 0.2612\n",
      "Epoch 20/100\n",
      "316175/316175 [==============================] - 7s 22us/sample - loss: 0.2569 - val_loss: 0.2609\n",
      "Epoch 21/100\n",
      "316175/316175 [==============================] - 7s 21us/sample - loss: 0.2567 - val_loss: 0.2609\n",
      "Epoch 22/100\n",
      "316175/316175 [==============================] - 6s 21us/sample - loss: 0.2568 - val_loss: 0.2607\n",
      "Epoch 23/100\n",
      "316175/316175 [==============================] - 8s 25us/sample - loss: 0.2562 - val_loss: 0.2607\n",
      "Epoch 24/100\n",
      "316175/316175 [==============================] - 8s 26us/sample - loss: 0.2564 - val_loss: 0.2608\n",
      "Epoch 25/100\n",
      "316175/316175 [==============================] - 8s 24us/sample - loss: 0.2563 - val_loss: 0.2607\n",
      "Epoch 26/100\n",
      "316175/316175 [==============================] - 7s 24us/sample - loss: 0.2559 - val_loss: 0.2611\n",
      "Epoch 27/100\n",
      "316175/316175 [==============================] - 7s 23us/sample - loss: 0.2557 - val_loss: 0.2606\n",
      "Epoch 28/100\n",
      "316175/316175 [==============================] - 6s 18us/sample - loss: 0.2557 - val_loss: 0.2613\n",
      "Epoch 29/100\n",
      "316175/316175 [==============================] - 6s 18us/sample - loss: 0.2554 - val_loss: 0.2609\n",
      "Epoch 30/100\n",
      "316175/316175 [==============================] - 6s 18us/sample - loss: 0.2554 - val_loss: 0.2615\n",
      "Epoch 31/100\n",
      "316175/316175 [==============================] - 6s 18us/sample - loss: 0.2551 - val_loss: 0.2609\n",
      "Epoch 32/100\n",
      "316175/316175 [==============================] - 6s 19us/sample - loss: 0.2552 - val_loss: 0.2613\n",
      "Epoch 33/100\n",
      "316175/316175 [==============================] - 7s 22us/sample - loss: 0.2550 - val_loss: 0.2614\n",
      "Epoch 34/100\n",
      "316175/316175 [==============================] - 8s 25us/sample - loss: 0.2549 - val_loss: 0.2613\n",
      "Epoch 35/100\n",
      "316175/316175 [==============================] - 7s 21us/sample - loss: 0.2547 - val_loss: 0.2613\n",
      "Epoch 36/100\n",
      "316175/316175 [==============================] - 7s 21us/sample - loss: 0.2547 - val_loss: 0.2612\n",
      "Epoch 37/100\n",
      "316175/316175 [==============================] - 6s 20us/sample - loss: 0.2548 - val_loss: 0.2615\n",
      "Epoch 38/100\n",
      "316175/316175 [==============================] - 6s 20us/sample - loss: 0.2546 - val_loss: 0.2614\n",
      "Epoch 39/100\n",
      "316175/316175 [==============================] - 6s 20us/sample - loss: 0.2543 - val_loss: 0.2612\n",
      "Epoch 40/100\n",
      "316175/316175 [==============================] - 6s 20us/sample - loss: 0.2542 - val_loss: 0.2611\n",
      "Epoch 41/100\n",
      "316175/316175 [==============================] - 7s 22us/sample - loss: 0.2540 - val_loss: 0.2608\n",
      "Epoch 42/100\n",
      "316175/316175 [==============================] - 7s 22us/sample - loss: 0.2542 - val_loss: 0.2609\n",
      "Epoch 43/100\n",
      "316175/316175 [==============================] - 7s 21us/sample - loss: 0.2541 - val_loss: 0.2610\n",
      "Epoch 44/100\n",
      "316175/316175 [==============================] - 7s 23us/sample - loss: 0.2535 - val_loss: 0.2611\n",
      "Epoch 45/100\n",
      "316175/316175 [==============================] - 7s 23us/sample - loss: 0.2536 - val_loss: 0.2608\n",
      "Epoch 46/100\n",
      "316175/316175 [==============================] - 7s 21us/sample - loss: 0.2535 - val_loss: 0.2609\n",
      "Epoch 47/100\n",
      "316175/316175 [==============================] - 6s 20us/sample - loss: 0.2534 - val_loss: 0.2610\n",
      "Epoch 48/100\n",
      "316175/316175 [==============================] - 6s 20us/sample - loss: 0.2533 - val_loss: 0.2612\n",
      "Epoch 49/100\n",
      "316175/316175 [==============================] - 7s 21us/sample - loss: 0.2534 - val_loss: 0.2610\n",
      "Epoch 50/100\n",
      "316175/316175 [==============================] - 6s 20us/sample - loss: 0.2531 - val_loss: 0.2609\n",
      "Epoch 51/100\n",
      "316175/316175 [==============================] - 7s 21us/sample - loss: 0.2529 - val_loss: 0.2614\n",
      "Epoch 52/100\n",
      "316175/316175 [==============================] - 7s 21us/sample - loss: 0.2531 - val_loss: 0.2615\n",
      "Epoch 53/100\n",
      "316175/316175 [==============================] - 6s 20us/sample - loss: 0.2533 - val_loss: 0.2611\n",
      "Epoch 54/100\n",
      "316175/316175 [==============================] - 6s 20us/sample - loss: 0.2528 - val_loss: 0.2615\n",
      "Epoch 55/100\n",
      "316175/316175 [==============================] - 6s 20us/sample - loss: 0.2529 - val_loss: 0.2613\n",
      "Epoch 56/100\n",
      "316175/316175 [==============================] - 7s 21us/sample - loss: 0.2528 - val_loss: 0.2608\n",
      "Epoch 57/100\n",
      "316175/316175 [==============================] - 7s 21us/sample - loss: 0.2527 - val_loss: 0.2613\n",
      "Epoch 58/100\n",
      "316175/316175 [==============================] - 6s 20us/sample - loss: 0.2526 - val_loss: 0.2613\n",
      "Epoch 59/100\n",
      "316175/316175 [==============================] - 6s 20us/sample - loss: 0.2526 - val_loss: 0.2614\n",
      "Epoch 60/100\n",
      "316175/316175 [==============================] - 6s 20us/sample - loss: 0.2526 - val_loss: 0.2616\n",
      "Epoch 61/100\n",
      "316175/316175 [==============================] - 7s 22us/sample - loss: 0.2523 - val_loss: 0.2607\n",
      "Epoch 62/100\n",
      "316175/316175 [==============================] - 7s 23us/sample - loss: 0.2525 - val_loss: 0.2615\n",
      "Epoch 63/100\n",
      "316175/316175 [==============================] - 7s 23us/sample - loss: 0.2525 - val_loss: 0.2621\n",
      "Epoch 64/100\n",
      "316175/316175 [==============================] - 7s 23us/sample - loss: 0.2526 - val_loss: 0.2613\n",
      "Epoch 65/100\n",
      "316175/316175 [==============================] - 6s 21us/sample - loss: 0.2520 - val_loss: 0.2613\n",
      "Epoch 66/100\n",
      "316175/316175 [==============================] - 6s 20us/sample - loss: 0.2522 - val_loss: 0.2613\n",
      "Epoch 67/100\n",
      "316175/316175 [==============================] - 6s 20us/sample - loss: 0.2520 - val_loss: 0.2628\n",
      "Epoch 68/100\n",
      "316175/316175 [==============================] - 6s 20us/sample - loss: 0.2519 - val_loss: 0.2614\n",
      "Epoch 69/100\n",
      "316175/316175 [==============================] - 6s 20us/sample - loss: 0.2520 - val_loss: 0.2618\n",
      "Epoch 70/100\n",
      "316175/316175 [==============================] - 7s 21us/sample - loss: 0.2518 - val_loss: 0.2609\n",
      "Epoch 71/100\n",
      "316175/316175 [==============================] - 6s 20us/sample - loss: 0.2519 - val_loss: 0.2617\n",
      "Epoch 72/100\n",
      "316175/316175 [==============================] - 6s 20us/sample - loss: 0.2518 - val_loss: 0.2617\n",
      "Epoch 73/100\n",
      "316175/316175 [==============================] - 6s 20us/sample - loss: 0.2515 - val_loss: 0.2611\n",
      "Epoch 74/100\n"
     ]
    },
    {
     "name": "stdout",
     "output_type": "stream",
     "text": [
      "316175/316175 [==============================] - 6s 19us/sample - loss: 0.2517 - val_loss: 0.2613\n",
      "Epoch 75/100\n",
      "316175/316175 [==============================] - 6s 19us/sample - loss: 0.2518 - val_loss: 0.2616\n",
      "Epoch 76/100\n",
      "316175/316175 [==============================] - 6s 19us/sample - loss: 0.2515 - val_loss: 0.2617\n",
      "Epoch 77/100\n",
      "316175/316175 [==============================] - 6s 19us/sample - loss: 0.2514 - val_loss: 0.2617\n",
      "Epoch 78/100\n",
      "316175/316175 [==============================] - 6s 19us/sample - loss: 0.2515 - val_loss: 0.2620\n",
      "Epoch 79/100\n",
      "316175/316175 [==============================] - 6s 19us/sample - loss: 0.2514 - val_loss: 0.2615\n",
      "Epoch 80/100\n",
      "316175/316175 [==============================] - 7s 22us/sample - loss: 0.2513 - val_loss: 0.2622\n",
      "Epoch 81/100\n",
      "316175/316175 [==============================] - 7s 22us/sample - loss: 0.2513 - val_loss: 0.2625\n",
      "Epoch 82/100\n",
      "316175/316175 [==============================] - 7s 22us/sample - loss: 0.2512 - val_loss: 0.2621\n",
      "Epoch 83/100\n",
      "316175/316175 [==============================] - 7s 21us/sample - loss: 0.2513 - val_loss: 0.2616\n",
      "Epoch 84/100\n",
      "316175/316175 [==============================] - 6s 20us/sample - loss: 0.2511 - val_loss: 0.2615\n",
      "Epoch 85/100\n",
      "316175/316175 [==============================] - 6s 20us/sample - loss: 0.2513 - val_loss: 0.2623\n",
      "Epoch 86/100\n",
      "316175/316175 [==============================] - 6s 20us/sample - loss: 0.2512 - val_loss: 0.2622\n",
      "Epoch 87/100\n",
      "316175/316175 [==============================] - 6s 19us/sample - loss: 0.2512 - val_loss: 0.2614\n",
      "Epoch 88/100\n",
      "316175/316175 [==============================] - 6s 19us/sample - loss: 0.2512 - val_loss: 0.2614\n",
      "Epoch 89/100\n",
      "316175/316175 [==============================] - 7s 21us/sample - loss: 0.2509 - val_loss: 0.2620\n",
      "Epoch 90/100\n",
      "316175/316175 [==============================] - 7s 22us/sample - loss: 0.2509 - val_loss: 0.2610\n",
      "Epoch 91/100\n",
      "316175/316175 [==============================] - 7s 22us/sample - loss: 0.2509 - val_loss: 0.2617\n",
      "Epoch 92/100\n",
      "316175/316175 [==============================] - 7s 23us/sample - loss: 0.2508 - val_loss: 0.2618\n",
      "Epoch 93/100\n",
      "316175/316175 [==============================] - 6s 20us/sample - loss: 0.2509 - val_loss: 0.2618\n",
      "Epoch 94/100\n",
      "316175/316175 [==============================] - 6s 20us/sample - loss: 0.2509 - val_loss: 0.2620\n",
      "Epoch 95/100\n",
      "316175/316175 [==============================] - 6s 21us/sample - loss: 0.2506 - val_loss: 0.2623\n",
      "Epoch 96/100\n",
      "316175/316175 [==============================] - 6s 20us/sample - loss: 0.2507 - val_loss: 0.2610\n",
      "Epoch 97/100\n",
      "316175/316175 [==============================] - 6s 20us/sample - loss: 0.2506 - val_loss: 0.2618\n",
      "Epoch 98/100\n",
      "316175/316175 [==============================] - 7s 21us/sample - loss: 0.2507 - val_loss: 0.2621\n",
      "Epoch 99/100\n",
      "316175/316175 [==============================] - 6s 20us/sample - loss: 0.2504 - val_loss: 0.2618\n",
      "Epoch 100/100\n",
      "316175/316175 [==============================] - 6s 20us/sample - loss: 0.2507 - val_loss: 0.2617\n"
     ]
    },
    {
     "data": {
      "text/plain": [
       "<tensorflow.python.keras.callbacks.History at 0x1d414d790c8>"
      ]
     },
     "execution_count": 101,
     "metadata": {},
     "output_type": "execute_result"
    }
   ],
   "source": [
    "from tensorflow.keras.callbacks import EarlyStopping\n",
    "callback = EarlyStopping(monitor = 'val_loss', mode = 'min', verbose = 1, patience = 5)\n",
    "\n",
    "model.fit(X_train, y_train, validation_data = [X_test, y_test], batch_size = 256, epochs = 100)"
   ]
  },
  {
   "cell_type": "code",
   "execution_count": 102,
   "metadata": {},
   "outputs": [
    {
     "data": {
      "text/html": [
       "<div>\n",
       "<style scoped>\n",
       "    .dataframe tbody tr th:only-of-type {\n",
       "        vertical-align: middle;\n",
       "    }\n",
       "\n",
       "    .dataframe tbody tr th {\n",
       "        vertical-align: top;\n",
       "    }\n",
       "\n",
       "    .dataframe thead th {\n",
       "        text-align: right;\n",
       "    }\n",
       "</style>\n",
       "<table border=\"1\" class=\"dataframe\">\n",
       "  <thead>\n",
       "    <tr style=\"text-align: right;\">\n",
       "      <th></th>\n",
       "      <th>loss</th>\n",
       "      <th>val_loss</th>\n",
       "    </tr>\n",
       "  </thead>\n",
       "  <tbody>\n",
       "    <tr>\n",
       "      <th>0</th>\n",
       "      <td>0.300006</td>\n",
       "      <td>0.264552</td>\n",
       "    </tr>\n",
       "    <tr>\n",
       "      <th>1</th>\n",
       "      <td>0.265482</td>\n",
       "      <td>0.262846</td>\n",
       "    </tr>\n",
       "    <tr>\n",
       "      <th>2</th>\n",
       "      <td>0.262903</td>\n",
       "      <td>0.262179</td>\n",
       "    </tr>\n",
       "    <tr>\n",
       "      <th>3</th>\n",
       "      <td>0.261757</td>\n",
       "      <td>0.262729</td>\n",
       "    </tr>\n",
       "    <tr>\n",
       "      <th>4</th>\n",
       "      <td>0.260902</td>\n",
       "      <td>0.261854</td>\n",
       "    </tr>\n",
       "    <tr>\n",
       "      <th>...</th>\n",
       "      <td>...</td>\n",
       "      <td>...</td>\n",
       "    </tr>\n",
       "    <tr>\n",
       "      <th>95</th>\n",
       "      <td>0.250745</td>\n",
       "      <td>0.260997</td>\n",
       "    </tr>\n",
       "    <tr>\n",
       "      <th>96</th>\n",
       "      <td>0.250592</td>\n",
       "      <td>0.261842</td>\n",
       "    </tr>\n",
       "    <tr>\n",
       "      <th>97</th>\n",
       "      <td>0.250714</td>\n",
       "      <td>0.262126</td>\n",
       "    </tr>\n",
       "    <tr>\n",
       "      <th>98</th>\n",
       "      <td>0.250447</td>\n",
       "      <td>0.261822</td>\n",
       "    </tr>\n",
       "    <tr>\n",
       "      <th>99</th>\n",
       "      <td>0.250658</td>\n",
       "      <td>0.261706</td>\n",
       "    </tr>\n",
       "  </tbody>\n",
       "</table>\n",
       "<p>100 rows × 2 columns</p>\n",
       "</div>"
      ],
      "text/plain": [
       "        loss  val_loss\n",
       "0   0.300006  0.264552\n",
       "1   0.265482  0.262846\n",
       "2   0.262903  0.262179\n",
       "3   0.261757  0.262729\n",
       "4   0.260902  0.261854\n",
       "..       ...       ...\n",
       "95  0.250745  0.260997\n",
       "96  0.250592  0.261842\n",
       "97  0.250714  0.262126\n",
       "98  0.250447  0.261822\n",
       "99  0.250658  0.261706\n",
       "\n",
       "[100 rows x 2 columns]"
      ]
     },
     "execution_count": 102,
     "metadata": {},
     "output_type": "execute_result"
    }
   ],
   "source": [
    "df_loss = pd.DataFrame(model.history.history)\n",
    "df_loss"
   ]
  },
  {
   "cell_type": "code",
   "execution_count": 103,
   "metadata": {},
   "outputs": [
    {
     "data": {
      "text/plain": [
       "<matplotlib.axes._subplots.AxesSubplot at 0x1d415748888>"
      ]
     },
     "execution_count": 103,
     "metadata": {},
     "output_type": "execute_result"
    },
    {
     "data": {
      "image/png": "[encoded data removed]",
      "text/plain": [
       "<Figure size 432x288 with 1 Axes>"
      ]
     },
     "metadata": {
      "needs_background": "light"
     },
     "output_type": "display_data"
    }
   ],
   "source": [
    "df_loss.plot()"
   ]
  },
  {
   "cell_type": "code",
   "execution_count": 105,
   "metadata": {},
   "outputs": [],
   "source": [
    "#It is clear as we keep on training the training loss is getting reduced but the validation loss is almost same\\\n",
    "#we can conclude the training for now and see the performance of the model to decide further action"
   ]
  },
  {
   "cell_type": "markdown",
   "metadata": {},
   "source": [
    "#### Model evaluation"
   ]
  },
  {
   "cell_type": "code",
   "execution_count": 106,
   "metadata": {},
   "outputs": [],
   "source": [
    "y_pred = model.predict_classes(X_test)"
   ]
  },
  {
   "cell_type": "code",
   "execution_count": 108,
   "metadata": {},
   "outputs": [],
   "source": [
    "from sklearn.metrics import classification_report\n",
    "\n",
    "rep = classification_report(y_test, y_pred)"
   ]
  },
  {
   "cell_type": "code",
   "execution_count": 110,
   "metadata": {},
   "outputs": [
    {
     "name": "stdout",
     "output_type": "stream",
     "text": [
      "              precision    recall  f1-score   support\n",
      "\n",
      "           0       0.92      0.48      0.63     15658\n",
      "           1       0.88      0.99      0.93     63386\n",
      "\n",
      "    accuracy                           0.89     79044\n",
      "   macro avg       0.90      0.73      0.78     79044\n",
      "weighted avg       0.89      0.89      0.87     79044\n",
      "\n"
     ]
    }
   ],
   "source": [
    "print(rep)"
   ]
  },
  {
   "cell_type": "code",
   "execution_count": 112,
   "metadata": {},
   "outputs": [
    {
     "name": "stdout",
     "output_type": "stream",
     "text": [
      "[[ 7449  8209]\n",
      " [  676 62710]]\n"
     ]
    }
   ],
   "source": [
    "from sklearn.metrics import confusion_matrix\n",
    "\n",
    "rep = confusion_matrix(y_test, y_pred)\n",
    "print(rep)"
   ]
  },
  {
   "cell_type": "markdown",
   "metadata": {},
   "source": [
    "## Still there is a scope for further improvement"
   ]
  },
  {
   "cell_type": "markdown",
   "metadata": {},
   "source": [
    "#### You can save the model if you want"
   ]
  },
  {
   "cell_type": "code",
   "execution_count": 116,
   "metadata": {},
   "outputs": [
    {
     "name": "stdout",
     "output_type": "stream",
     "text": [
      "WARNING:tensorflow:Sequential models without an `input_shape` passed to the first layer cannot reload their optimizer state. As a result, your model isstarting with a freshly initialized optimizer.\n"
     ]
    }
   ],
   "source": [
    "from tensorflow.keras.models import load_model\n",
    "model.save('model_lending_club.h5')\n",
    "my_model = load_model('model_lending_club.h5')"
   ]
  },
  {
   "cell_type": "markdown",
   "metadata": {},
   "source": [
    "**TASK: Given the customer below, would you offer this person a loan?**"
   ]
  },
  {
   "cell_type": "code",
   "execution_count": 117,
   "metadata": {},
   "outputs": [
    {
     "data": {
      "text/plain": [
       "loan_amnt      25000.00\n",
       "term              60.00\n",
       "int_rate          18.24\n",
       "installment      638.11\n",
       "annual_inc     61665.00\n",
       "                 ...   \n",
       "30723              1.00\n",
       "48052              0.00\n",
       "70466              0.00\n",
       "86630              0.00\n",
       "93700              0.00\n",
       "Name: 305323, Length: 78, dtype: float64"
      ]
     },
     "execution_count": 117,
     "metadata": {},
     "output_type": "execute_result"
    }
   ],
   "source": [
    "import random\n",
    "random.seed(101)\n",
    "random_ind = random.randint(0,len(df))\n",
    "\n",
    "new_customer = df.drop('loan_repaid',axis=1).iloc[random_ind]\n",
    "new_customer"
   ]
  },
  {
   "cell_type": "code",
   "execution_count": 132,
   "metadata": {},
   "outputs": [
    {
     "data": {
      "text/plain": [
       "(78,)"
      ]
     },
     "execution_count": 132,
     "metadata": {},
     "output_type": "execute_result"
    }
   ],
   "source": [
    "#reshape the new input data in the required format\n",
    "x_test = new_customer.values\n",
    "x_test.shape"
   ]
  },
  {
   "cell_type": "code",
   "execution_count": 133,
   "metadata": {},
   "outputs": [
    {
     "data": {
      "text/plain": [
       "(1, 78)"
      ]
     },
     "execution_count": 133,
     "metadata": {},
     "output_type": "execute_result"
    }
   ],
   "source": [
    "x_test = x_test.reshape(1, 78)\n",
    "x_test.shape                "
   ]
  },
  {
   "cell_type": "code",
   "execution_count": 142,
   "metadata": {},
   "outputs": [
    {
     "data": {
      "text/plain": [
       "array([[1]])"
      ]
     },
     "execution_count": 142,
     "metadata": {},
     "output_type": "execute_result"
    }
   ],
   "source": [
    "#predict output\n",
    "y_pred = my_model.predict_classes(x_test)\n",
    "y_pred"
   ]
  },
  {
   "cell_type": "code",
   "execution_count": 139,
   "metadata": {},
   "outputs": [
    {
     "data": {
      "text/plain": [
       "1.0"
      ]
     },
     "execution_count": 139,
     "metadata": {},
     "output_type": "execute_result"
    }
   ],
   "source": [
    "#ground truth\n",
    "df.iloc[random_ind]['loan_repaid']"
   ]
  },
  {
   "cell_type": "markdown",
   "metadata": {},
   "source": [
    "#### In the given test case, the model predicted correctly the the user wil repay the loan amount completely."
   ]
  },
  {
   "cell_type": "markdown",
   "metadata": {},
   "source": [
    "# END"
   ]
  },
  {
   "cell_type": "code",
   "execution_count": null,
   "metadata": {},
   "outputs": [],
   "source": []
  }
 ],
 "metadata": {
  "kernelspec": {
   "display_name": "Python 3",
   "language": "python",
   "name": "python3"
  },
  "language_info": {
   "codemirror_mode": {
    "name": "ipython",
    "version": 3
   },
   "file_extension": ".py",
   "mimetype": "text/x-python",
   "name": "python",
   "nbconvert_exporter": "python",
   "pygments_lexer": "ipython3",
   "version": "3.7.6"
  }
 },
 "nbformat": 4,
 "nbformat_minor": 4
}
